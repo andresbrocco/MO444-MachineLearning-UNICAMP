{
  "cells": [
    {
      "metadata": {
        "_cell_guid": "24e01245-54e6-43c7-a9ba-e89164392910",
        "_uuid": "0c7a7e099224c726f317b9439676a5e6307f8377"
      },
      "cell_type": "markdown",
      "source": "**Diamonds Price Predict Ensemble ML Tutorial - RandomForest, GradientBoosting, XGBoost**\n\nby. YHJ\n\n1. Data Loding\n2. EDA (Feature Engineering, Observations, Cleaning)\n3. Cleaned up Data Set prepare\n4. Define Model RandomForest/ GradientBoosting/ XGB\n5. Evaluate Model"
    },
    {
      "metadata": {
        "_cell_guid": "b1076dfc-b9ad-4769-8c92-a6c4dae69d19",
        "_uuid": "8f2839f25d086af736a60e9eeb907d3b93b6e0e5",
        "collapsed": true,
        "trusted": true
      },
      "cell_type": "code",
      "source": "import numpy as np\nimport pandas as pd\nfrom time import time\nimport scipy.stats as st\n\nimport seaborn as sns\nimport matplotlib.pyplot as plt\n\nfrom sklearn.svm import SVR\nfrom sklearn.ensemble import RandomForestRegressor, AdaBoostRegressor, GradientBoostingRegressor\nimport xgboost as xgb\n\nfrom sklearn.metrics import mean_squared_error, mean_absolute_error, r2_score\n\nfrom sklearn.model_selection import KFold, RepeatedKFold\nfrom sklearn.model_selection import GridSearchCV, RandomizedSearchCV\n\nfrom sklearn.model_selection import train_test_split\n\nfrom sklearn.preprocessing import StandardScaler",
      "execution_count": null,
      "outputs": []
    },
    {
      "metadata": {
        "_cell_guid": "e7a19c66-6978-45e9-af9e-896a7d2b3e2f",
        "_uuid": "01d94e5437b3f8f22761b1a25f25b744a29b8864",
        "collapsed": true,
        "trusted": true
      },
      "cell_type": "code",
      "source": "import warnings\nwarnings.filterwarnings(\"ignore\", category=DeprecationWarning)",
      "execution_count": null,
      "outputs": []
    },
    {
      "metadata": {
        "_cell_guid": "c694db30-58f3-4501-b9a1-5b5aa47fa7d6",
        "_uuid": "7133630c3d56c377a2be134e016a097e6d79f9a5"
      },
      "cell_type": "markdown",
      "source": "**1. Data Loding**\n* Data Loding and Check"
    },
    {
      "metadata": {
        "_cell_guid": "79c7e3d0-c299-4dcb-8224-4455121ee9b0",
        "_uuid": "d629ff2d2480ee46fbb7e2d37f6b5fab8052498a",
        "collapsed": true,
        "trusted": true
      },
      "cell_type": "code",
      "source": "# ###################################################################\n# data loding\ndata = pd.read_csv('../input/diamonds.csv',index_col=0)",
      "execution_count": null,
      "outputs": []
    },
    {
      "metadata": {
        "_cell_guid": "d7be15d5-1336-4560-9987-8a2fa057bd1d",
        "_uuid": "9f7684007adb28dac13f5f04a2d9ce974f331e4d",
        "collapsed": true,
        "trusted": true
      },
      "cell_type": "code",
      "source": "# ###################################################################\n# data check\ndata.head(10)",
      "execution_count": null,
      "outputs": []
    },
    {
      "metadata": {
        "_cell_guid": "a92bf617-3fce-496e-98ae-08ba9d4b6487",
        "_uuid": "be12c0d815f32ee59551c301337de212aea68cef",
        "collapsed": true,
        "trusted": true
      },
      "cell_type": "code",
      "source": "data.info()",
      "execution_count": null,
      "outputs": []
    },
    {
      "metadata": {
        "_cell_guid": "290c3b03-875c-4fd5-9b8d-a782a7795928",
        "_uuid": "1145a668c89baf8ef2a0cc3e6eb3467beff38937",
        "collapsed": true,
        "trusted": true
      },
      "cell_type": "code",
      "source": "data.isnull().sum()",
      "execution_count": null,
      "outputs": []
    },
    {
      "metadata": {
        "_cell_guid": "adf9e505-9d23-4e6a-ba4b-f007532dab10",
        "_uuid": "c9ad1c6594aff738fbc6b51b70da102dab0014d4"
      },
      "cell_type": "markdown",
      "source": "* price : price in US dollars (\\$326 ~ \\$18,823)\n* carat : Weight of the Diamond(0.2 ~ 5.01)\n* cut : Quality of the Cut (Fair, Good, Very Good, Premium, Ideal)\n* color : Diamond Colour, from J(Worst) I H G F E D(Best)\n* clarity : measurement of how clear the Diamond is (I1(Worst), SI2, SI1, VS2, VS1, VVS2, VVS1, IF(Best))\n\n* x : length in mm (0 ~ 10.74)\n* y : width in mm (0 ~ 58.9)\n* z : depth in mm (0 ~ 31.8)\n\n* depth : total depth percentage = z / mean(x,y) = 2 * z / (x + y) || (43 ~ 79)\n* table : width of top of Diamond relative to widest point (43 ~ 95)"
    },
    {
      "metadata": {
        "_cell_guid": "147fea54-0875-4646-bcd5-cd446cebb1d5",
        "_uuid": "1650cfb04aec62395b3e76933f0bef2d026c8532",
        "collapsed": true,
        "trusted": true
      },
      "cell_type": "code",
      "source": "# ###################################################################\n# Correlation Analysis\nplt.figure(figsize=(10, 8))\nsns.heatmap(data.corr(), cmap='RdBu_r', annot=True, linewidths=0.5, center=0)",
      "execution_count": null,
      "outputs": []
    },
    {
      "metadata": {
        "_cell_guid": "50bfd814-c7a3-4f08-ba08-bf2dcbab3121",
        "_uuid": "95ad9b22b0f86f6413827f45d7cac4bb5c36666a"
      },
      "cell_type": "markdown",
      "source": "**2. EDA (Feature Engineering, Observations, Cleaning)**\n1. Observations\n2. Feature Engineering by Observation\n3. Unnecessary Data cleaning"
    },
    {
      "metadata": {
        "_cell_guid": "1815c4d2-c187-45c2-9d2e-287df249e8ea",
        "_uuid": "4ec4b9cbc9621a342fb27828a961c24b40afc17c"
      },
      "cell_type": "markdown",
      "source": "**Carat**\n* Carat have a very High correlation with price (see the Correlation Heatmap)"
    },
    {
      "metadata": {
        "_cell_guid": "0578d915-31b3-43ac-b4ae-ec00e594ec8c",
        "_uuid": "f5385cad5c61cbf9ce0ab1d26412373e39c718e1",
        "collapsed": true,
        "trusted": true
      },
      "cell_type": "code",
      "source": "# 1. carat\nsns.distplot(data['carat'])",
      "execution_count": null,
      "outputs": []
    },
    {
      "metadata": {
        "_cell_guid": "8644df44-4f27-4e44-9bc2-00c3a204f647",
        "_uuid": "0804f1013b7cd85d46b128c85f2492d272ae97bd",
        "collapsed": true,
        "trusted": true
      },
      "cell_type": "code",
      "source": "data['carat'].ix[np.where(data['carat'] < 2)].count()\n#   1-1. 대부분의 다이아몬드(96%)는 (0~2) 사이의 Carat값을 가진다.",
      "execution_count": null,
      "outputs": []
    },
    {
      "metadata": {
        "_cell_guid": "3b802d46-ddb9-4a8c-808b-f0fe14fc879d",
        "_uuid": "6fb8283c9e77665be7b2fb2d5b6a7e26b98208b4",
        "collapsed": true,
        "trusted": true
      },
      "cell_type": "code",
      "source": "bins = [0, 1, 2, 3, 4, 10]\nlabel = ['Carat0','Carat1','Carat2','Carat3','Carat4']\ndata['Categoricalcarat'] = pd.cut(data['carat'], bins, labels=label)",
      "execution_count": null,
      "outputs": []
    },
    {
      "metadata": {
        "_cell_guid": "fb54509b-97c9-4b65-92f0-e08d3dc4bed1",
        "_uuid": "40cb49bb29532e1989f94688533a1dcfc983d790",
        "collapsed": true,
        "trusted": true
      },
      "cell_type": "code",
      "source": "sns.barplot(x='Categoricalcarat', y='price', data=data)\n#   1-2. Carat이 커질수록 평균가격 또한 증가하는 추세를 보임.\n#   1-3. Carat의 증가폭은 (0~1) - (1~2), (1~2) - (2~3)일때 가장 크게 증가한다. 대략 $5000 증가한다.",
      "execution_count": null,
      "outputs": []
    },
    {
      "metadata": {
        "_cell_guid": "42875d3b-733c-4961-9a87-83b80ab2b34a",
        "_uuid": "5c7e68704ee24436d2f08fbca91b1e1da47ef7a0",
        "collapsed": true,
        "trusted": true
      },
      "cell_type": "code",
      "source": "sns.lmplot('carat','price', data=data)\n#   1-4. Carat has a significant positive correlation.",
      "execution_count": null,
      "outputs": []
    },
    {
      "metadata": {
        "_cell_guid": "86f994dc-d631-4272-85bf-b2418e6090ac",
        "_uuid": "6721e6e7231a38805caf14f0e2b49590b2db4920"
      },
      "cell_type": "markdown",
      "source": "**Volume**\n* Volume = x * y * z\n* Reduced Features by create Volume\n* and Volume has a very High correlation with price more than x, y, z"
    },
    {
      "metadata": {
        "_cell_guid": "fab17103-4d22-4e24-b460-90ffe64b9855",
        "_uuid": "7c19e1871a248b20987082961ff24677eb978d26",
        "collapsed": true,
        "trusted": true
      },
      "cell_type": "code",
      "source": "# 2. Create Feature volume = x * y * z\n#   2-1. Outlier Delete for x,y,z = 0\n#        x,y,z can not have a value of 0 and it is judged to be an invalid data input\nprint(np.where(data['x'] == 0))\nprint(np.where(data['y'] == 0))\nprint(np.where(data['z'] == 0))",
      "execution_count": null,
      "outputs": []
    },
    {
      "metadata": {
        "_cell_guid": "1d1bf967-02ef-4039-b940-844a4cafc2bc",
        "_uuid": "2a11f2a0735387e05c55e480b51bc5bea8d2b43b",
        "collapsed": true,
        "trusted": true
      },
      "cell_type": "code",
      "source": "data = data.drop(data.index[np.where(data['x'] == 0)])\ndata = data.drop(data.index[np.where(data['y'] == 0)])\ndata = data.drop(data.index[np.where(data['z'] == 0)])\ndata = data.reset_index(drop=True)",
      "execution_count": null,
      "outputs": []
    },
    {
      "metadata": {
        "_cell_guid": "e17f72b3-5c3e-41ae-9656-d013db0b1da4",
        "_uuid": "de9a423047992ec80aa456a8578f632d6d0fe3f5",
        "collapsed": true,
        "trusted": true
      },
      "cell_type": "code",
      "source": "# Create Volume\ndata['volume'] = data['x'] * data['y'] * data['z']",
      "execution_count": null,
      "outputs": []
    },
    {
      "metadata": {
        "_cell_guid": "e07c7036-96d9-495c-8a1a-db26eac42a87",
        "_uuid": "6890ccbaaa0ea1597f07d579b6b19180f3fc476a",
        "collapsed": true,
        "trusted": true
      },
      "cell_type": "code",
      "source": "#   2-2. Volume Outlier Delete\nsns.distplot(data['volume'])",
      "execution_count": null,
      "outputs": []
    },
    {
      "metadata": {
        "_cell_guid": "c2ae1c30-ed4c-42bf-86e0-812efa734e4f",
        "_uuid": "8d86d5ee5861c55af541eb2e83b2d6de3f7e6ed0",
        "collapsed": true,
        "trusted": true
      },
      "cell_type": "code",
      "source": "data['carat'].ix[np.where(data['volume'] > 200)].count()\n#   2-3. 다이아몬드의 대부분의 volume은 200이하이며, 200이상의 volume을 가지는 다이아몬드는 전체 다이아몬드의 0.15% 이다.",
      "execution_count": null,
      "outputs": []
    },
    {
      "metadata": {
        "_cell_guid": "942af9c5-176e-4d18-adc7-e67de3a07225",
        "_uuid": "49d3a8f5593f49407599b4d577365d89be81d8e8",
        "collapsed": true,
        "trusted": true
      },
      "cell_type": "code",
      "source": "# In the case of ix 24058, the y value is 58 (y average value 5.73), which is very large and is classified as outliers.\nnp.where(data['volume'] > 1000)",
      "execution_count": null,
      "outputs": []
    },
    {
      "metadata": {
        "_cell_guid": "90d3d52f-2c88-4222-a9bf-9aa07c8facb9",
        "_uuid": "bca6b3deac43165e776ee41d32c6416ab1fb2a78",
        "collapsed": true,
        "trusted": true
      },
      "cell_type": "code",
      "source": "data.ix[np.where(data['volume'] > 1000)]",
      "execution_count": null,
      "outputs": []
    },
    {
      "metadata": {
        "_cell_guid": "1cd74f98-ba9e-4d83-9b8a-eea8f3d15ea5",
        "_uuid": "52719c97976f64a348f2b88092f75eee4fb3bb0f",
        "collapsed": true,
        "trusted": true
      },
      "cell_type": "code",
      "source": "print('Diamiond Y Mean : ',data['y'].mean())",
      "execution_count": null,
      "outputs": []
    },
    {
      "metadata": {
        "_cell_guid": "edf85be9-79f1-4a89-a84d-62b74cf4a73a",
        "_uuid": "85a93dcb6727c5dba11c936fce464965827917e2",
        "collapsed": true,
        "trusted": true
      },
      "cell_type": "code",
      "source": "data = data.drop(data.index[np.where(data['volume'] >= 1000)])\ndata = data.reset_index(drop=True)",
      "execution_count": null,
      "outputs": []
    },
    {
      "metadata": {
        "_cell_guid": "b876b81c-9a60-4bf3-b471-3fa72dc094f4",
        "_uuid": "51a0fe6975731b99441d3301d23bd55b001ef656",
        "collapsed": true,
        "trusted": true
      },
      "cell_type": "code",
      "source": "#   2-4. Categorize the all Volume value and See the trend\nbins = [0, 100, 200, 300, 400, 500, 600, 700, 800, 1000]\nlabel = ['Vol0','Vol100','Vol200','Vol300','Vol400','Vol500','Vol600','Vol700','Vol800']\ndata['Categoricalvolume'] = pd.cut(data['volume'], bins, labels=label)",
      "execution_count": null,
      "outputs": []
    },
    {
      "metadata": {
        "_cell_guid": "6812464e-251d-4048-a8a8-618ed02e2484",
        "_uuid": "9398b5ed5c22f59a57e9cd78d1e48d0b648a588a",
        "collapsed": true,
        "trusted": true
      },
      "cell_type": "code",
      "source": "sns.barplot(x='Categoricalvolume', y='price', data=data)\n#   2-5. The larger the volume, the increase the average price.\n#   2-6. However, the average price of the (800 ~) volume is very low, which is likely to be the wrong data.",
      "execution_count": null,
      "outputs": []
    },
    {
      "metadata": {
        "_cell_guid": "43121c15-152f-4d4f-8a7d-73a36c1fe696",
        "_uuid": "7ea51b56614cf03775d97e06e8218a8eaf6bb4a1",
        "collapsed": true,
        "trusted": true
      },
      "cell_type": "code",
      "source": "data.ix[np.where(data['volume'] >= 800)]\n#   2-7. y,z values are excessively larger than the average, and Compared with carat, you can see that the y and z values are entered incorrectly.",
      "execution_count": null,
      "outputs": []
    },
    {
      "metadata": {
        "_cell_guid": "6544d11b-4bbe-4346-b4ff-544e71d0b74a",
        "_uuid": "fee7691de5018242f55e01cf979afe71f797c2fb",
        "collapsed": true,
        "trusted": true
      },
      "cell_type": "code",
      "source": "print('Diamiond Y Mean : ',data['y'].mean())\nprint('Diamiond Z Mean : ',data['z'].mean())",
      "execution_count": null,
      "outputs": []
    },
    {
      "metadata": {
        "_cell_guid": "f4136f13-4512-494c-b611-93d2e016d4cf",
        "_uuid": "0f6e5ecb1402f5fc26caa179c833ac052d4be18e",
        "collapsed": true,
        "trusted": true
      },
      "cell_type": "code",
      "source": "data = data.drop(data.index[np.where(data['volume'] >= 800)])\ndata = data.reset_index(drop=True)",
      "execution_count": null,
      "outputs": []
    },
    {
      "metadata": {
        "_cell_guid": "29b98091-092a-4434-9a96-014ffe7b460d",
        "_uuid": "53a0ab4113233fcff51ef4b7eba20d18010216fd",
        "collapsed": true,
        "trusted": true
      },
      "cell_type": "code",
      "source": "sns.lmplot('volume','price', data=data)\n#   2-8. Volume has a significant positive correlation.",
      "execution_count": null,
      "outputs": []
    },
    {
      "metadata": {
        "_cell_guid": "3468da92-c6b4-4acb-bd54-eb17f4efa94d",
        "_uuid": "325073f41259a89f043083b50952df523b590b5a"
      },
      "cell_type": "markdown",
      "source": "**Cut**\n* Cut is a Ordinal Feature\n* Encoding is performed by weighting the Cut to the upper grade."
    },
    {
      "metadata": {
        "_cell_guid": "3c0c36c0-58b9-4d6d-9a5a-14a1da1ac0b0",
        "_uuid": "9ba5620a8799b14fd254a74852609a8214c18087",
        "collapsed": true,
        "trusted": true
      },
      "cell_type": "code",
      "source": "# Encoding cut, color, clarity\n# 3. cut : Fair, Good, Very Good, Premium, Ideal\nsns.countplot(data['cut'], order=['Fair','Good','Very Good','Premium','Ideal'])",
      "execution_count": null,
      "outputs": []
    },
    {
      "metadata": {
        "_cell_guid": "6bb449a0-f363-400a-b72e-52fd6107a115",
        "_uuid": "916824b1ef1feef405c4ef639c02cda170a19909",
        "collapsed": true,
        "trusted": true
      },
      "cell_type": "code",
      "source": "data['carat'].ix[np.where((data['cut'] == 'Premium') | (data['cut'] == 'Ideal'))].count()\n#   3-1. Many Diamond  are in higher grade (Premium, Ideal)\n#   3-2. Premium and Ideal grades, account for 65% of all diamonds.",
      "execution_count": null,
      "outputs": []
    },
    {
      "metadata": {
        "_cell_guid": "0b2969cb-a660-499f-bab3-bde1d511eee4",
        "_uuid": "c8f1035e8df0bfede24040f5150c9e12182ac08a",
        "collapsed": true,
        "trusted": true
      },
      "cell_type": "code",
      "source": "sns.barplot(x='cut', y='price', order=['Fair','Good','Very Good','Premium','Ideal'], data=data)\n#   3-3. The average price is similar for all grades.\n#   3-4. In particular, the highest grade Ideal, has the lowest average price among all grades.\n#   3-5. From observations 3-4, we can be deduced that cut has a small impact on average prices.",
      "execution_count": null,
      "outputs": []
    },
    {
      "metadata": {
        "_cell_guid": "7ff379fb-3710-4069-b3ae-a7125334776c",
        "_uuid": "552925f53879d5fc65106d300c426206679e7151",
        "collapsed": true,
        "trusted": true
      },
      "cell_type": "code",
      "source": "# Encoding cut\ndata.loc[data['cut'] == 'Fair', 'cut'] = 1\ndata.loc[data['cut'] == 'Good', 'cut'] = 2\ndata.loc[data['cut'] == 'Very Good', 'cut'] = 3\ndata.loc[data['cut'] == 'Premium', 'cut'] = 4\ndata.loc[data['cut'] == 'Ideal', 'cut'] = 5",
      "execution_count": null,
      "outputs": []
    },
    {
      "metadata": {
        "_cell_guid": "d8566b06-16c7-4ad8-a90f-a26c5e77b959",
        "_uuid": "6e9cc5609587afba2f2fe043798daa3cfa7aeb4b"
      },
      "cell_type": "markdown",
      "source": "**Color**\n* Color is Ordinal Feature too"
    },
    {
      "metadata": {
        "_cell_guid": "1b80c8ad-5246-4a2e-955e-7c42ba8c53f3",
        "_uuid": "101761e138dabcb881e8bf33a88a56b909244cc4",
        "collapsed": true,
        "trusted": true
      },
      "cell_type": "code",
      "source": "# 4. color : J(Worst) I H G F E D(Best)\nsns.countplot(data['color'], order=['J','I','H','G','F','E','D'])\n#   4-1. Many Diamond  are in middle grade (G, F)",
      "execution_count": null,
      "outputs": []
    },
    {
      "metadata": {
        "_cell_guid": "71cfb59e-d54d-4f5b-b9df-ed5b9112b94f",
        "_uuid": "6b3ec4fe51b9dc36842a475c9399b22d3e7b9c26",
        "collapsed": true,
        "trusted": true
      },
      "cell_type": "code",
      "source": "sns.barplot(x='color', y='price', order=['J','I','H','G','F','E','D'], data=data)\n#   4-2. For color, the higher the grade, the lower the average price.",
      "execution_count": null,
      "outputs": []
    },
    {
      "metadata": {
        "_cell_guid": "15b2ad3c-6893-4c2e-bed7-254dd4ad02d7",
        "_uuid": "e931d1c69aecdcf603cc0c9d40f36275eb140b15",
        "collapsed": true,
        "trusted": true
      },
      "cell_type": "code",
      "source": "print('Color J Mean Price : ', data['price'].ix[np.where(data['color'] == 'J')].mean())\nprint('Color D Mean Price : ', data['price'].ix[np.where(data['color'] == 'D')].mean())\n#   4-3. Especially, the average price for the lowest grade J($ 5323) is 1.68 times higher than the average price for the highest grade D($ 3168).\n#   4-4. In observations 4-3, the average price is more influenced by other features than Color.",
      "execution_count": null,
      "outputs": []
    },
    {
      "metadata": {
        "_cell_guid": "330db9d1-7cf5-4116-9a46-cb9877aadffa",
        "_uuid": "8020d73c43805ecda2826a275e84b4a6ffc76e0b",
        "collapsed": true,
        "trusted": true
      },
      "cell_type": "code",
      "source": "# Encoding color\ndata.loc[data['color'] == 'J', 'color'] = 1\ndata.loc[data['color'] == 'I', 'color'] = 2\ndata.loc[data['color'] == 'H', 'color'] = 3\ndata.loc[data['color'] == 'G', 'color'] = 4\ndata.loc[data['color'] == 'F', 'color'] = 5\ndata.loc[data['color'] == 'E', 'color'] = 6\ndata.loc[data['color'] == 'D', 'color'] = 7",
      "execution_count": null,
      "outputs": []
    },
    {
      "metadata": {
        "_cell_guid": "b32a9e76-7c98-4da0-b911-cc6d76c6e345",
        "_uuid": "e3e5a6917a318314db02564fd6d69b82a4711c7b"
      },
      "cell_type": "markdown",
      "source": "**Clarity**\n* Clarity is Ordinal Feature too"
    },
    {
      "metadata": {
        "_cell_guid": "6167caa8-7e4f-4b17-b093-313d2339bebe",
        "_uuid": "dbabcc961d54ebc7f070af79a0c8ebcf363c6013",
        "collapsed": true,
        "trusted": true
      },
      "cell_type": "code",
      "source": "# 5. clarity : I1(Worst), SI2, SI1, VS2, VS1, VVS2, VVS1, IF(Best)\nsns.countplot(data['clarity'], order=['I1','SI2','SI1','VS2','VS1','VVS2','VVS1','IF'])\n#   5-1. Many Diamond  are in lower grade (SI2, SI1, VS2)",
      "execution_count": null,
      "outputs": []
    },
    {
      "metadata": {
        "_cell_guid": "754f7206-1daf-410a-aec1-6551483db76a",
        "_uuid": "18c1fc843de76621b52166c611cf8629ed329db0",
        "collapsed": true,
        "trusted": true
      },
      "cell_type": "code",
      "source": "sns.barplot(x='clarity', y='price', order=['I1','SI2','SI1','VS2','VS1','VVS2','VVS1','IF'], data=data)\n#   5-2. Overall, the higher the grade, the lower the average price.",
      "execution_count": null,
      "outputs": []
    },
    {
      "metadata": {
        "_cell_guid": "e185a2c6-2ea6-46ec-b8e7-434f23c7c40d",
        "_uuid": "48e95d8fa23d083de0d90aedc7610ab9c57fbb8a",
        "collapsed": true,
        "trusted": true
      },
      "cell_type": "code",
      "source": "print('Clatity SI2 Mean Price : ', data['price'].ix[np.where(data['clarity'] == 'SI2')].mean())\nprint('Clatity IF Mean Price : ', data['price'].ix[np.where(data['clarity'] == 'IF')].mean())\n#   5-3. the average price for the lower grade SI2($ 5059) is 1.78 times higher than the average price for the highest grade IF($ 2864) too.",
      "execution_count": null,
      "outputs": []
    },
    {
      "metadata": {
        "_cell_guid": "b1d8da5b-851f-4047-a46a-c500200b7b20",
        "_uuid": "bbc3b1f6bce7b1331f7e90a6929710badc5c3672",
        "collapsed": true,
        "trusted": true
      },
      "cell_type": "code",
      "source": "# Encoding clarity\ndata.loc[data['clarity'] == 'I1', 'clarity'] = 1\ndata.loc[data['clarity'] == 'SI2', 'clarity'] = 2\ndata.loc[data['clarity'] == 'SI1', 'clarity'] = 3\ndata.loc[data['clarity'] == 'VS2', 'clarity'] = 4\ndata.loc[data['clarity'] == 'VS1', 'clarity'] = 5\ndata.loc[data['clarity'] == 'VVS2', 'clarity'] = 6\ndata.loc[data['clarity'] == 'VVS1', 'clarity'] = 7\ndata.loc[data['clarity'] == 'IF', 'clarity'] = 8",
      "execution_count": null,
      "outputs": []
    },
    {
      "metadata": {
        "_cell_guid": "b9860d8d-a987-40b4-8970-369e208d63c4",
        "_uuid": "db8b68695444e01f74fcc9c755a1606170c49ffa"
      },
      "cell_type": "markdown",
      "source": "**Depth**\n* Depth = z / mean(x , y)"
    },
    {
      "metadata": {
        "_cell_guid": "04083130-cebe-4d55-82de-7d4f8f10e0c2",
        "_uuid": "057047992beb6d29f720255d6f019c3ab6821140",
        "collapsed": true,
        "trusted": true
      },
      "cell_type": "code",
      "source": "# 6. depth\nsns.distplot(data['depth'])",
      "execution_count": null,
      "outputs": []
    },
    {
      "metadata": {
        "_cell_guid": "15109aa6-3b43-4ada-bdee-43934ecb6922",
        "_uuid": "1fd2d64e2697549ef8e81dccc4f34d452852a75a",
        "collapsed": true,
        "trusted": true
      },
      "cell_type": "code",
      "source": "data['depth'].ix[np.where((data['depth'] > 60) & (data['depth'] < 65))].count()\n#   6-1. Most diamonds(88%) have depth values between (60 ~ 65)",
      "execution_count": null,
      "outputs": []
    },
    {
      "metadata": {
        "_cell_guid": "63f50675-671b-49c7-942c-21dab119aa92",
        "_uuid": "128388f05ce10e6a1c675f4ce7403ed526356260",
        "collapsed": true,
        "trusted": true
      },
      "cell_type": "code",
      "source": "bins = [0, 50, 55, 60, 65, 70, 75, 80]\nlabel = ['depth0','depth50','depth55','depth60','depth65','depth70','depth75']\ndata['Categoricaldepth'] = pd.cut(data['depth'], bins, labels=label)",
      "execution_count": null,
      "outputs": []
    },
    {
      "metadata": {
        "_cell_guid": "78ef4d72-90c1-4ea9-9246-1cc0d6ba77d3",
        "_uuid": "e521b2073aba33d3e28607f163d1acdcc5fa0871",
        "collapsed": true,
        "trusted": true
      },
      "cell_type": "code",
      "source": "sns.barplot(x='Categoricaldepth', y='price', data=data)\n#   6-2. depth has a similar average price as a whole, but the average price is lowered by more than half in a certain interval (50 ~ 55) and (70 ~ 75",
      "execution_count": null,
      "outputs": []
    },
    {
      "metadata": {
        "_cell_guid": "78ea8713-7d28-489a-8686-fc1b1d4c4d6d",
        "_uuid": "2db418dbe24703f9fa028240b55031f3a80d86fc",
        "collapsed": true,
        "trusted": true
      },
      "cell_type": "code",
      "source": "sns.lmplot('depth','price', data=data)\n#   6-3. depth has a weak negative correlation.",
      "execution_count": null,
      "outputs": []
    },
    {
      "metadata": {
        "_cell_guid": "dfaebf9b-0e93-419a-b4c6-2a3c7ea6a343",
        "_uuid": "4cfa3476f01e41f44ec5ebbf6b86535a66a0708c",
        "collapsed": true,
        "trusted": true
      },
      "cell_type": "code",
      "source": "# 7. table\nsns.distplot(data['table'])\ndata['table'].ix[np.where((data['table'] > 55) & (data['table'] < 60))].count()\n#   7-1. Most diamonds(84%) have depth values between (60 ~ 65)",
      "execution_count": null,
      "outputs": []
    },
    {
      "metadata": {
        "_cell_guid": "49bb05a2-9576-4683-805c-a66c9ff5c544",
        "_uuid": "f6f01c74dd08f74eacdc542301ae021186d005e5",
        "collapsed": true,
        "trusted": true
      },
      "cell_type": "code",
      "source": "bins = [0, 50, 55, 60, 65, 70, 75, 100]\nlabel = ['table0','table50','table55','table60','table65','table70','table75']\ndata['Categoricaltable'] = pd.cut(data['table'], bins, labels=label)",
      "execution_count": null,
      "outputs": []
    },
    {
      "metadata": {
        "_cell_guid": "73589b51-3439-4936-a2d8-506d5bc22262",
        "_uuid": "b9742490a5c4875d694dbcb9aca76762ee08ffb5",
        "collapsed": true,
        "scrolled": true,
        "trusted": true
      },
      "cell_type": "code",
      "source": "sns.barplot(x='Categoricaltable', y='price', data=data)\n#   7-2. The table also has a similar average price as a whole, but the average price is lowered by more than half in a certain interval (70 ~ 75).\n#   7-3. (75 ~) interval has a large variance, but the number of diamonds in the interval is very small, so there is no big influence.\n",
      "execution_count": null,
      "outputs": []
    },
    {
      "metadata": {
        "_cell_guid": "a42e57f4-5d1a-45d7-a8c1-62de048dc6dd",
        "_uuid": "edd31852bf9f57749307e73b990c84957893c239",
        "collapsed": true,
        "trusted": true
      },
      "cell_type": "code",
      "source": "sns.lmplot('table','price', data=data)\n#   7-4. table has a weak positive correlation.",
      "execution_count": null,
      "outputs": []
    },
    {
      "metadata": {
        "_cell_guid": "cf57d1de-050c-4456-83f4-79cd26699318",
        "_uuid": "912588da2f17a9f6915ffbb077096c519c9b35e1"
      },
      "cell_type": "markdown",
      "source": "** From the above observations, the most important factor affecting the price of diamonds is carat, volume.**"
    },
    {
      "metadata": {
        "_cell_guid": "9036e3eb-8d6c-4a85-968e-e7bfc7fde033",
        "_uuid": "b69fd5009601d29fd4fae7a4eaf57a912bcfa909",
        "collapsed": true,
        "trusted": true
      },
      "cell_type": "code",
      "source": "# Data Cleaning\ndata = data.drop(['x','y','z'], axis=1)\ndata = data.drop(['Categoricalvolume','Categoricalcarat','Categoricaldepth','Categoricaltable'], axis=1)",
      "execution_count": null,
      "outputs": []
    },
    {
      "metadata": {
        "_cell_guid": "2180d13f-857b-401c-9fab-fc8e5add8b1a",
        "_uuid": "94923778857d88daf90b1b9fa3aa18df34e81f7e",
        "collapsed": true,
        "trusted": true
      },
      "cell_type": "code",
      "source": "data.head(10)",
      "execution_count": null,
      "outputs": []
    },
    {
      "metadata": {
        "_cell_guid": "a2c960ac-d561-4abb-b9cc-696e08e2f926",
        "_uuid": "5f613f2c6fe3da9ba8b5168d6e231a2bc4afbcee",
        "collapsed": true,
        "trusted": true
      },
      "cell_type": "code",
      "source": "plt.figure(figsize=(10, 8))\nsns.heatmap(data.corr(), cmap='RdBu_r', annot=True, linewidths=0.5, center=0)",
      "execution_count": null,
      "outputs": []
    },
    {
      "metadata": {
        "_cell_guid": "d105ff5b-5e48-4af6-858c-66f3959b5588",
        "_uuid": "81db36e363aedd0831fa3583fc27b2524515f287"
      },
      "cell_type": "markdown",
      "source": "**3. Cleaned up Data Set prepare**\n1. Set Explanatory variable X, Response variable y(Price)\n2. Scale Standardization\n3. Data Split (Train, Test) - Test ratio 0.25"
    },
    {
      "metadata": {
        "_cell_guid": "d3c974ea-fee8-4387-8b49-1a8554afdce3",
        "_uuid": "7fc5d2758c28f51c87c9989d6fbfa91078bf6fee",
        "collapsed": true,
        "trusted": true
      },
      "cell_type": "code",
      "source": "# ###################################################################\n# Explanatory variable X, Response variable y\nX = data.drop(['price'], axis=1)\ny = data['price']",
      "execution_count": null,
      "outputs": []
    },
    {
      "metadata": {
        "_cell_guid": "b35fed9d-6c59-4de5-a6d3-f31c4026c9c1",
        "_uuid": "5ac2b530f88f7e5de938f4c43a138c61944f5d70",
        "collapsed": true,
        "trusted": true
      },
      "cell_type": "code",
      "source": "# ###################################################################\n# Scale Standardization\n# Scale the data to be between -1 and 1\nsc = StandardScaler()\nX = sc.fit_transform(X)",
      "execution_count": null,
      "outputs": []
    },
    {
      "metadata": {
        "_cell_guid": "a617cef9-a9ad-444b-b211-672f7655eb44",
        "_uuid": "84f1031aaa2c0493e593724df669b810cc1f3163",
        "collapsed": true,
        "trusted": true
      },
      "cell_type": "code",
      "source": "# ###################################################################\n# Data Split\nseed = 940224\nX_train, X_test, y_train, y_test = train_test_split(X, y, test_size=0.25, random_state=seed)",
      "execution_count": null,
      "outputs": []
    },
    {
      "metadata": {
        "_cell_guid": "8f599c66-6097-478e-b8aa-2c472cc88329",
        "_uuid": "a48cadef4ee72115a012cc5b7fc28f458c1ca718",
        "collapsed": true,
        "trusted": true
      },
      "cell_type": "code",
      "source": "# ###################################################################\n# Visualization, Report Ver.2\n# Functions for visualizing results\ndef pred_vis(name, y_test_vis, y_pred_vis):\n    if y_test_vis.shape[0] > 200:\n        y_test_vis = y_test_vis[:200]\n        y_pred_vis = y_pred_vis[:200]\n        \n    y_test_m_vis = y_test_vis.as_matrix()\n    plt.figure(figsize=(12,5))\n    plt.title('%s Prediction' %name)\n    plt.plot(y_test_m_vis, c='steelblue', alpha=1)\n    plt.plot(y_pred_vis, c='darkorange', alpha=2)\n    legend_list = ['y_test', 'y_pred']\n    plt.xlabel('Var')\n    plt.ylabel('Output')\n    plt.legend(legend_list, loc=1, fontsize='10')\n    plt.grid(True)\n    plt.show()\n\n    \n# GridSearchCV, RandomizedSearchCV Report Function\n# -> by. scikit-learn.org \"Comparing randomized search and grid search for hyperparameter estimation\"\ndef report(results, n_top=3):\n    lcount = 0\n    for i in range(1, n_top + 1):\n        candidates = np.flatnonzero(results['rank_test_score'] == i)\n        for candidate in candidates:\n            print(\"Model with rank: {0}\".format(i))\n            print(\"Mean validation score: {0:.3f} (std: {1:.3f})\".format(\n                    results['mean_test_score'][candidate],\n                    results['std_test_score'][candidate]))\n            print(\"Parameters: {0}\".format(results['params'][candidate]))\n            print(\"\")\n            if lcount > 2:\n                break\n            lcount += 1\n\n\ndef model_scores(y_test,y_pred):\n    mse = mean_squared_error(y_test, y_pred)\n    mae = mean_absolute_error(y_test, y_pred)\n    rmse = mean_squared_error(y_test, y_pred)**0.5\n    r2 = r2_score(y_test, y_pred)\n    global X_test\n    adj_r2 = 1 - (1 - r2)*float(len(y_test)-1)/(len(y_test)-X_test.shape[1]-1)\n\n    print('MSE    : %0.2f ' % mse)\n    print('MAE    : %0.2f ' % mae)\n    print('RMSE   : %0.2f ' % rmse)\n    print('R2     : %0.2f ' % r2)\n    print('Adj_R2 : %0.2f ' % adj_r2)\n    return {'mse':[mse], 'rmse':[rmse], 'r2':[r2]}\n\n\ndef result_vis(r2_results_vis, names_vis):\n    fig =plt.figure(figsize=(6,6))\n    fig.suptitle('Algorithm Comparison - R2')\n    ax = fig.add_subplot(111)\n    plt.barh(np.arange(len(names_vis)), sum(r2_results_vis, []), align=\"center\")\n    ax.set_yticks(np.arange(len(names_vis)))\n    ax.set_yticklabels(names_vis)\n    ax.invert_yaxis()  # labels read top-to-bottom\n    plt.grid(True)",
      "execution_count": null,
      "outputs": []
    },
    {
      "metadata": {
        "_cell_guid": "83b2d9da-9ab4-4972-aa0a-bf8bb830da60",
        "_uuid": "7af1105439c96c42cbb643e1bde779ac816b27c0"
      },
      "cell_type": "markdown",
      "source": "**4. Define MachineLearning Model**\n1. RandomForest\n2. GradientBoosting\n3. XGB"
    },
    {
      "metadata": {
        "_cell_guid": "15101283-51ad-4ade-a46c-24d54f6af890",
        "_uuid": "7c6564cfefd3acb2fc58f98cc5620492b8e82b76",
        "collapsed": true,
        "trusted": true
      },
      "cell_type": "code",
      "source": "models = []\nmodels.append(('RandomForest ', RandomForestRegressor(n_estimators=1000)))\nmodels.append(('AdaBoost     ', AdaBoostRegressor(n_estimators=1000)))\nmodels.append(('GBM          ', GradientBoostingRegressor(n_estimators=1000)))\nmodels.append(('XGBoost      ', xgb.XGBRegressor(booster='gbtree',objective='reg:linear',n_estimators=1000)))",
      "execution_count": null,
      "outputs": []
    },
    {
      "metadata": {
        "_cell_guid": "87e4a139-20bb-4ff6-9188-7d974fc56c52",
        "_uuid": "680790759b157d10cdc66fe1847f904ecfc08d3c"
      },
      "cell_type": "markdown",
      "source": "** * If you want to find the optimal parameters?**\n* Use SearchCV (GridSearchCV, RandomizedSearchCV\n* However, it takes a lot of computing power and time(especially GridSearchCV) to obtain optimal parameters using searchCV."
    },
    {
      "metadata": {
        "_cell_guid": "b1ec9183-290a-4d75-8e37-26fc9d70412f",
        "_uuid": "9d2d56bde454044b0b954da9629cfaa46492d29e",
        "collapsed": true,
        "trusted": true
      },
      "cell_type": "code",
      "source": "#Hyperparameter Grid Ver.1\n# param_grid = {\n#        'RandomForest'  : {'n_estimators'       : st.randint(500, 1000),\n#                           'max_features'       : ['auto','sqrt','log2'],\n#                           'max_depth'          : st.randint(1, 20),\n#                           'min_samples_split'  : st.randint(2, 50),    \n#                           'min_samples_leaf'   : st.randint(1, 50),\n#                           'criterion'          : ['mse', 'mae']},\n#                           \n#        'Adaboost'      : {'n_estimators'       : st.randint(500, 1000),\n#                           'learning_rate'      : st.uniform(0.001, 0.1),\n#                           'loss'               : ['linear', 'square', 'exponential']},\n#                           \n#        'GBM'           : {'n_estimators'       : st.randint(1000, 5000),\n#                           'max_depth'          : st.randint(1, 20),\n#                           'learning_rate'      : st.uniform(0.001, 0.1),\n#                           'min_samples_split'  : st.randint(2, 50),\n#                           'min_samples_leaf'   : st.randint(2, 50)},\n#\n#        'XGB'           : {'n_estimators'       : st.randint(1000, 5000),\n#                           'max_depth'          : st.randint(1, 20),\n#                           'learning_rate'      : st.uniform(0.001, 0.1),\n#                           'colsample_bytree'   : st.beta(10, 1),\n#                           'subsample'          : st.beta(10, 1),\n#                           'gamma'              : st.uniform(0, 10),\n#                           'min_child_weight'   : st.expon(0, 10)}\n#}\n\n# MODELS - param_grid\n# models = []\n# models.append(('RandomForest ', RandomizedSearchCV(RandomForestRegressor(), param_grid['RandomForest'], scoring='r2', cv=Kfold, n_jobs=-1, n_iter=100, random_state=seed)))\n# models.append(('AdaBoost     ', RandomizedSearchCV(AdaBoostRegressor(), param_grid['AdaBoost'], scoring='r2', cv=Kfold, n_jobs=-1, n_iter=100, random_state=seed)))\n# models.append(('GBM          ', RandomizedSearchCV(GradientBoostingRegressor(), param_grid['GBM'], scoring='r2', cv=Kfold, n_jobs=-1, n_iter=100, random_state=seed)))\n# models.append(('XGBoost      ', RandomizedSearchCV(xgb.XGBRegressor(booster='gbtree',objective='reg:linear'), param_grid['XGB'], scoring='r2', cv=Kfold, n_jobs=-1, n_iter=100, random_state=seed)))",
      "execution_count": null,
      "outputs": []
    },
    {
      "metadata": {
        "_cell_guid": "1b039e4b-9bd2-46f0-b1e8-30c32b8a7b7a",
        "_uuid": "150f26c1f65f7a549bc4f47d4e25ef7712179038"
      },
      "cell_type": "markdown",
      "source": "**5. Training and Evaluate Each Model**\n1. Model Fit\n2. Model Report\n3. Visualization"
    },
    {
      "metadata": {
        "_cell_guid": "516af8cb-f416-4232-96f9-cfc4416552a9",
        "_uuid": "c825e25d9fd59053d94942c32d28809eb22d3bde",
        "collapsed": true,
        "scrolled": true,
        "trusted": true
      },
      "cell_type": "code",
      "source": "r2_results = []\nnames = []\n\nfor name, model in models:\n    model.fit(X_train, y_train)\n    y_pred = model.predict(X_test)\n    \n    print('')\n    print('## %s ##################################' % name)\n    print('Test score : %.4f' % model.score(X_test, y_test))\n    results = model_scores(y_test, y_pred)\n\n    pred_vis(name, y_test, y_pred)\n    \n    r2_results.append(results['r2'])\n    names.append(name.replace(' ', ''))",
      "execution_count": null,
      "outputs": []
    },
    {
      "metadata": {
        "_cell_guid": "339b3520-839e-4815-aac2-5c5f8f79ba42",
        "_uuid": "9eba8350683e687538361f307369a90d1705f265"
      },
      "cell_type": "markdown",
      "source": "**Evaluate Report**\n\n**1. RandomForest**\n* R2 score : 0.9805\n* RMSE     : 555.66\n\n**2. AdaBoost**\n* R2 score : 0.8867\n* RMSE     : 13\n\n**3. GradientBoosting**\n* R2 score : 0.9807\n* RMSE     : 553.16\n\n**4. XGBoost**\n* R2 score : 0.9807\n* RMSE     : 552.58"
    },
    {
      "metadata": {
        "_cell_guid": "90338a03-9848-400b-915c-d20a88fbca67",
        "_uuid": "57d8b5465af78bcf1e25604e1234752abf3c324d",
        "collapsed": true,
        "trusted": true
      },
      "cell_type": "code",
      "source": "result_vis(r2_results, names)",
      "execution_count": null,
      "outputs": []
    },
    {
      "metadata": {
        "_cell_guid": "fa964aa0-3338-4f25-98f5-76e42cfde87c",
        "_uuid": "09534d75829a392bab99d7bfc8b9eb0dd3970026",
        "collapsed": true,
        "trusted": true
      },
      "cell_type": "code",
      "source": "sns.factorplot('name','r2', data=pd.DataFrame({'name':names, 'r2':[round(i, 4) for i in sum(r2_results, [])]}), size=6)",
      "execution_count": null,
      "outputs": []
    },
    {
      "metadata": {
        "_cell_guid": "d8bc46bf-7d87-49f9-9826-6c482b2236ac",
        "_uuid": "cd34475154e3bea33be48d1a79b8c586860d392c"
      },
      "cell_type": "markdown",
      "source": ""
    }
  ],
  "metadata": {
    "kernelspec": {
      "display_name": "Python 3",
      "language": "python",
      "name": "python3"
    },
    "language_info": {
      "name": "python",
      "version": "3.6.4",
      "mimetype": "text/x-python",
      "codemirror_mode": {
        "name": "ipython",
        "version": 3
      },
      "pygments_lexer": "ipython3",
      "nbconvert_exporter": "python",
      "file_extension": ".py"
    }
  },
  "nbformat": 4,
  "nbformat_minor": 1
}