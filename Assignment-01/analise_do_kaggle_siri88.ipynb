{
 "cells": [
  {
   "cell_type": "markdown",
   "metadata": {
    "_cell_guid": "24e01245-54e6-43c7-a9ba-e89164392910",
    "_uuid": "0c7a7e099224c726f317b9439676a5e6307f8377"
   },
   "source": [
    "**Diamonds Price Predict Ensemble ML Tutorial - RandomForest, GradientBoosting, XGBoost**\n",
    "\n",
    "by. YHJ\n",
    "\n",
    "1. Data Loding\n",
    "2. EDA (Feature Engineering, Observations, Cleaning)\n",
    "3. Cleaned up Data Set prepare\n",
    "4. Define Model RandomForest/ GradientBoosting/ XGB\n",
    "5. Evaluate Model"
   ]
  },
  {
   "cell_type": "code",
   "execution_count": 1,
   "metadata": {
    "_cell_guid": "b1076dfc-b9ad-4769-8c92-a6c4dae69d19",
    "_uuid": "8f2839f25d086af736a60e9eeb907d3b93b6e0e5"
   },
   "outputs": [],
   "source": [
    "import numpy as np\n",
    "import pandas as pd\n",
    "from time import time\n",
    "import scipy.stats as st\n",
    "\n",
    "import seaborn as sns\n",
    "import matplotlib.pyplot as plt\n",
    "\n",
    "from sklearn.svm import SVR\n",
    "from sklearn.ensemble import RandomForestRegressor, AdaBoostRegressor, GradientBoostingRegressor\n",
    "#import xgboost as xgb\n",
    "\n",
    "from sklearn.metrics import mean_squared_error, mean_absolute_error, r2_score\n",
    "\n",
    "from sklearn.model_selection import KFold, RepeatedKFold\n",
    "from sklearn.model_selection import GridSearchCV, RandomizedSearchCV\n",
    "\n",
    "from sklearn.model_selection import train_test_split\n",
    "\n",
    "from sklearn.preprocessing import StandardScaler"
   ]
  },
  {
   "cell_type": "code",
   "execution_count": 2,
   "metadata": {
    "_cell_guid": "e7a19c66-6978-45e9-af9e-896a7d2b3e2f",
    "_uuid": "01d94e5437b3f8f22761b1a25f25b744a29b8864"
   },
   "outputs": [],
   "source": [
    "import warnings\n",
    "warnings.filterwarnings(\"ignore\", category=DeprecationWarning)"
   ]
  },
  {
   "cell_type": "markdown",
   "metadata": {
    "_cell_guid": "c694db30-58f3-4501-b9a1-5b5aa47fa7d6",
    "_uuid": "7133630c3d56c377a2be134e016a097e6d79f9a5"
   },
   "source": [
    "**1. Data Loding**\n",
    "* Data Loding and Check"
   ]
  },
  {
   "cell_type": "code",
   "execution_count": 3,
   "metadata": {
    "_cell_guid": "79c7e3d0-c299-4dcb-8224-4455121ee9b0",
    "_uuid": "d629ff2d2480ee46fbb7e2d37f6b5fab8052498a"
   },
   "outputs": [],
   "source": [
    "# ###################################################################\n",
    "# data loding\n",
    "data = pd.read_csv('diamonds-dataset/diamonds-train.csv')"
   ]
  },
  {
   "cell_type": "code",
   "execution_count": 4,
   "metadata": {
    "_cell_guid": "d7be15d5-1336-4560-9987-8a2fa057bd1d",
    "_uuid": "9f7684007adb28dac13f5f04a2d9ce974f331e4d"
   },
   "outputs": [
    {
     "data": {
      "text/html": [
       "<div>\n",
       "<style scoped>\n",
       "    .dataframe tbody tr th:only-of-type {\n",
       "        vertical-align: middle;\n",
       "    }\n",
       "\n",
       "    .dataframe tbody tr th {\n",
       "        vertical-align: top;\n",
       "    }\n",
       "\n",
       "    .dataframe thead th {\n",
       "        text-align: right;\n",
       "    }\n",
       "</style>\n",
       "<table border=\"1\" class=\"dataframe\">\n",
       "  <thead>\n",
       "    <tr style=\"text-align: right;\">\n",
       "      <th></th>\n",
       "      <th>carat</th>\n",
       "      <th>cut</th>\n",
       "      <th>color</th>\n",
       "      <th>clarity</th>\n",
       "      <th>x</th>\n",
       "      <th>y</th>\n",
       "      <th>z</th>\n",
       "      <th>depth</th>\n",
       "      <th>table</th>\n",
       "      <th>price</th>\n",
       "    </tr>\n",
       "  </thead>\n",
       "  <tbody>\n",
       "    <tr>\n",
       "      <th>0</th>\n",
       "      <td>1.62</td>\n",
       "      <td>Ideal</td>\n",
       "      <td>I</td>\n",
       "      <td>VS2</td>\n",
       "      <td>7.53</td>\n",
       "      <td>7.58</td>\n",
       "      <td>4.69</td>\n",
       "      <td>62.1</td>\n",
       "      <td>55.0</td>\n",
       "      <td>10501</td>\n",
       "    </tr>\n",
       "    <tr>\n",
       "      <th>1</th>\n",
       "      <td>0.30</td>\n",
       "      <td>Premium</td>\n",
       "      <td>G</td>\n",
       "      <td>SI1</td>\n",
       "      <td>4.39</td>\n",
       "      <td>4.35</td>\n",
       "      <td>2.57</td>\n",
       "      <td>58.8</td>\n",
       "      <td>60.0</td>\n",
       "      <td>574</td>\n",
       "    </tr>\n",
       "    <tr>\n",
       "      <th>2</th>\n",
       "      <td>1.37</td>\n",
       "      <td>Ideal</td>\n",
       "      <td>F</td>\n",
       "      <td>VS1</td>\n",
       "      <td>7.28</td>\n",
       "      <td>7.22</td>\n",
       "      <td>4.32</td>\n",
       "      <td>59.6</td>\n",
       "      <td>57.0</td>\n",
       "      <td>11649</td>\n",
       "    </tr>\n",
       "    <tr>\n",
       "      <th>3</th>\n",
       "      <td>0.33</td>\n",
       "      <td>Fair</td>\n",
       "      <td>H</td>\n",
       "      <td>VVS2</td>\n",
       "      <td>4.40</td>\n",
       "      <td>4.32</td>\n",
       "      <td>2.84</td>\n",
       "      <td>65.1</td>\n",
       "      <td>59.0</td>\n",
       "      <td>922</td>\n",
       "    </tr>\n",
       "    <tr>\n",
       "      <th>4</th>\n",
       "      <td>0.32</td>\n",
       "      <td>Very Good</td>\n",
       "      <td>F</td>\n",
       "      <td>VS2</td>\n",
       "      <td>4.43</td>\n",
       "      <td>4.48</td>\n",
       "      <td>2.62</td>\n",
       "      <td>58.8</td>\n",
       "      <td>62.0</td>\n",
       "      <td>602</td>\n",
       "    </tr>\n",
       "    <tr>\n",
       "      <th>5</th>\n",
       "      <td>0.51</td>\n",
       "      <td>Premium</td>\n",
       "      <td>E</td>\n",
       "      <td>SI2</td>\n",
       "      <td>5.15</td>\n",
       "      <td>5.12</td>\n",
       "      <td>3.22</td>\n",
       "      <td>62.7</td>\n",
       "      <td>52.0</td>\n",
       "      <td>1205</td>\n",
       "    </tr>\n",
       "    <tr>\n",
       "      <th>6</th>\n",
       "      <td>1.50</td>\n",
       "      <td>Good</td>\n",
       "      <td>H</td>\n",
       "      <td>VS2</td>\n",
       "      <td>7.22</td>\n",
       "      <td>7.27</td>\n",
       "      <td>4.61</td>\n",
       "      <td>63.6</td>\n",
       "      <td>58.0</td>\n",
       "      <td>10291</td>\n",
       "    </tr>\n",
       "    <tr>\n",
       "      <th>7</th>\n",
       "      <td>0.85</td>\n",
       "      <td>Ideal</td>\n",
       "      <td>G</td>\n",
       "      <td>VS1</td>\n",
       "      <td>6.09</td>\n",
       "      <td>6.11</td>\n",
       "      <td>3.77</td>\n",
       "      <td>61.8</td>\n",
       "      <td>55.0</td>\n",
       "      <td>4373</td>\n",
       "    </tr>\n",
       "    <tr>\n",
       "      <th>8</th>\n",
       "      <td>0.33</td>\n",
       "      <td>Ideal</td>\n",
       "      <td>F</td>\n",
       "      <td>VS1</td>\n",
       "      <td>4.46</td>\n",
       "      <td>4.49</td>\n",
       "      <td>2.74</td>\n",
       "      <td>61.2</td>\n",
       "      <td>56.0</td>\n",
       "      <td>723</td>\n",
       "    </tr>\n",
       "    <tr>\n",
       "      <th>9</th>\n",
       "      <td>1.10</td>\n",
       "      <td>Ideal</td>\n",
       "      <td>G</td>\n",
       "      <td>VS1</td>\n",
       "      <td>6.69</td>\n",
       "      <td>6.65</td>\n",
       "      <td>4.09</td>\n",
       "      <td>61.3</td>\n",
       "      <td>54.0</td>\n",
       "      <td>6535</td>\n",
       "    </tr>\n",
       "  </tbody>\n",
       "</table>\n",
       "</div>"
      ],
      "text/plain": [
       "   carat        cut color clarity     x     y     z  depth  table  price\n",
       "0   1.62      Ideal     I     VS2  7.53  7.58  4.69   62.1   55.0  10501\n",
       "1   0.30    Premium     G     SI1  4.39  4.35  2.57   58.8   60.0    574\n",
       "2   1.37      Ideal     F     VS1  7.28  7.22  4.32   59.6   57.0  11649\n",
       "3   0.33       Fair     H    VVS2  4.40  4.32  2.84   65.1   59.0    922\n",
       "4   0.32  Very Good     F     VS2  4.43  4.48  2.62   58.8   62.0    602\n",
       "5   0.51    Premium     E     SI2  5.15  5.12  3.22   62.7   52.0   1205\n",
       "6   1.50       Good     H     VS2  7.22  7.27  4.61   63.6   58.0  10291\n",
       "7   0.85      Ideal     G     VS1  6.09  6.11  3.77   61.8   55.0   4373\n",
       "8   0.33      Ideal     F     VS1  4.46  4.49  2.74   61.2   56.0    723\n",
       "9   1.10      Ideal     G     VS1  6.69  6.65  4.09   61.3   54.0   6535"
      ]
     },
     "execution_count": 4,
     "metadata": {},
     "output_type": "execute_result"
    }
   ],
   "source": [
    "# ###################################################################\n",
    "# data check\n",
    "data.head(10)"
   ]
  },
  {
   "cell_type": "code",
   "execution_count": 5,
   "metadata": {
    "_cell_guid": "a92bf617-3fce-496e-98ae-08ba9d4b6487",
    "_uuid": "be12c0d815f32ee59551c301337de212aea68cef"
   },
   "outputs": [
    {
     "name": "stdout",
     "output_type": "stream",
     "text": [
      "<class 'pandas.core.frame.DataFrame'>\n",
      "RangeIndex: 45849 entries, 0 to 45848\n",
      "Data columns (total 10 columns):\n",
      "carat      45849 non-null float64\n",
      "cut        45849 non-null object\n",
      "color      45849 non-null object\n",
      "clarity    45849 non-null object\n",
      "x          45849 non-null float64\n",
      "y          45849 non-null float64\n",
      "z          45849 non-null float64\n",
      "depth      45849 non-null float64\n",
      "table      45849 non-null float64\n",
      "price      45849 non-null int64\n",
      "dtypes: float64(6), int64(1), object(3)\n",
      "memory usage: 3.5+ MB\n"
     ]
    }
   ],
   "source": [
    "data.info()"
   ]
  },
  {
   "cell_type": "code",
   "execution_count": 6,
   "metadata": {
    "_cell_guid": "290c3b03-875c-4fd5-9b8d-a782a7795928",
    "_uuid": "1145a668c89baf8ef2a0cc3e6eb3467beff38937"
   },
   "outputs": [
    {
     "data": {
      "text/plain": [
       "carat      0\n",
       "cut        0\n",
       "color      0\n",
       "clarity    0\n",
       "x          0\n",
       "y          0\n",
       "z          0\n",
       "depth      0\n",
       "table      0\n",
       "price      0\n",
       "dtype: int64"
      ]
     },
     "execution_count": 6,
     "metadata": {},
     "output_type": "execute_result"
    }
   ],
   "source": [
    "data.isnull().sum()"
   ]
  },
  {
   "cell_type": "markdown",
   "metadata": {
    "_cell_guid": "adf9e505-9d23-4e6a-ba4b-f007532dab10",
    "_uuid": "c9ad1c6594aff738fbc6b51b70da102dab0014d4"
   },
   "source": [
    "* price : price in US dollars (\\$326 ~ \\$18,823)\n",
    "* carat : Weight of the Diamond(0.2 ~ 5.01)\n",
    "* cut : Quality of the Cut (Fair, Good, Very Good, Premium, Ideal)\n",
    "* color : Diamond Colour, from J(Worst) I H G F E D(Best)\n",
    "* clarity : measurement of how clear the Diamond is (I1(Worst), SI2, SI1, VS2, VS1, VVS2, VVS1, IF(Best))\n",
    "\n",
    "* x : length in mm (0 ~ 10.74)\n",
    "* y : width in mm (0 ~ 58.9)\n",
    "* z : depth in mm (0 ~ 31.8)\n",
    "\n",
    "* depth : total depth percentage = z / mean(x,y) = 2 * z / (x + y) || (43 ~ 79)\n",
    "* table : width of top of Diamond relative to widest point (43 ~ 95)"
   ]
  },
  {
   "cell_type": "code",
   "execution_count": 7,
   "metadata": {
    "_cell_guid": "147fea54-0875-4646-bcd5-cd446cebb1d5",
    "_uuid": "1650cfb04aec62395b3e76933f0bef2d026c8532"
   },
   "outputs": [
    {
     "data": {
      "text/plain": [
       "<matplotlib.axes._subplots.AxesSubplot at 0x7f50343d7ac8>"
      ]
     },
     "execution_count": 7,
     "metadata": {},
     "output_type": "execute_result"
    },
    {
     "data": {
      "image/png": "[encoded data removed]",
      "text/plain": [
       "<Figure size 720x576 with 2 Axes>"
      ]
     },
     "metadata": {},
     "output_type": "display_data"
    }
   ],
   "source": [
    "# ###################################################################\n",
    "# Correlation Analysis\n",
    "plt.figure(figsize=(10, 8))\n",
    "sns.heatmap(data.corr(), cmap='RdBu_r', annot=True, linewidths=0.5, center=0)"
   ]
  },
  {
   "cell_type": "markdown",
   "metadata": {
    "_cell_guid": "50bfd814-c7a3-4f08-ba08-bf2dcbab3121",
    "_uuid": "95ad9b22b0f86f6413827f45d7cac4bb5c36666a"
   },
   "source": [
    "**2. EDA (Feature Engineering, Observations, Cleaning)**\n",
    "1. Observations\n",
    "2. Feature Engineering by Observation\n",
    "3. Unnecessary Data cleaning"
   ]
  },
  {
   "cell_type": "markdown",
   "metadata": {
    "_cell_guid": "1815c4d2-c187-45c2-9d2e-287df249e8ea",
    "_uuid": "4ec4b9cbc9621a342fb27828a961c24b40afc17c"
   },
   "source": [
    "**Carat**\n",
    "* Carat have a very High correlation with price (see the Correlation Heatmap)"
   ]
  },
  {
   "cell_type": "code",
   "execution_count": 8,
   "metadata": {
    "_cell_guid": "0578d915-31b3-43ac-b4ae-ec00e594ec8c",
    "_uuid": "f5385cad5c61cbf9ce0ab1d26412373e39c718e1"
   },
   "outputs": [
    {
     "name": "stderr",
     "output_type": "stream",
     "text": [
      "/home/asbrocco/anaconda3/lib/python3.6/site-packages/matplotlib/axes/_axes.py:6462: UserWarning: The 'normed' kwarg is deprecated, and has been replaced by the 'density' kwarg.\n",
      "  warnings.warn(\"The 'normed' kwarg is deprecated, and has been \"\n"
     ]
    },
    {
     "data": {
      "text/plain": [
       "<matplotlib.axes._subplots.AxesSubplot at 0x7f50342b6f60>"
      ]
     },
     "execution_count": 8,
     "metadata": {},
     "output_type": "execute_result"
    },
    {
     "data": {
      "image/png": "[encoded data removed]",
      "text/plain": [
       "<Figure size 432x288 with 1 Axes>"
      ]
     },
     "metadata": {},
     "output_type": "display_data"
    }
   ],
   "source": [
    "# 1. carat\n",
    "sns.distplot(data['carat'])"
   ]
  },
  {
   "cell_type": "code",
   "execution_count": 9,
   "metadata": {
    "_cell_guid": "8644df44-4f27-4e44-9bc2-00c3a204f647",
    "_uuid": "0804f1013b7cd85d46b128c85f2492d272ae97bd"
   },
   "outputs": [
    {
     "data": {
      "text/plain": [
       "44037"
      ]
     },
     "execution_count": 9,
     "metadata": {},
     "output_type": "execute_result"
    }
   ],
   "source": [
    "data['carat'].ix[np.where(data['carat'] < 2)].count()\n",
    "#   1-1. 대부분의 다이아몬드(96%)는 (0~2) 사이의 Carat값을 가진다."
   ]
  },
  {
   "cell_type": "code",
   "execution_count": 10,
   "metadata": {
    "_cell_guid": "3b802d46-ddb9-4a8c-808b-f0fe14fc879d",
    "_uuid": "6fb8283c9e77665be7b2fb2d5b6a7e26b98208b4"
   },
   "outputs": [],
   "source": [
    "bins = [0, 1, 2, 3, 4, 10]\n",
    "label = ['Carat0','Carat1','Carat2','Carat3','Carat4']\n",
    "data['Categoricalcarat'] = pd.cut(data['carat'], bins, labels=label)"
   ]
  },
  {
   "cell_type": "code",
   "execution_count": 11,
   "metadata": {
    "_cell_guid": "fb54509b-97c9-4b65-92f0-e08d3dc4bed1",
    "_uuid": "40cb49bb29532e1989f94688533a1dcfc983d790"
   },
   "outputs": [
    {
     "data": {
      "text/plain": [
       "<matplotlib.axes._subplots.AxesSubplot at 0x7f503412ef60>"
      ]
     },
     "execution_count": 11,
     "metadata": {},
     "output_type": "execute_result"
    },
    {
     "data": {
      "image/png": "[encoded data removed]",
      "text/plain": [
       "<Figure size 432x288 with 1 Axes>"
      ]
     },
     "metadata": {},
     "output_type": "display_data"
    }
   ],
   "source": [
    "sns.barplot(x='Categoricalcarat', y='price', data=data)\n",
    "#   1-2. Carat이 커질수록 평균가격 또한 증가하는 추세를 보임.\n",
    "#   1-3. Carat의 증가폭은 (0~1) - (1~2), (1~2) - (2~3)일때 가장 크게 증가한다. 대략 $5000 증가한다."
   ]
  },
  {
   "cell_type": "code",
   "execution_count": 12,
   "metadata": {
    "_cell_guid": "42875d3b-733c-4961-9a87-83b80ab2b34a",
    "_uuid": "5c7e68704ee24436d2f08fbca91b1e1da47ef7a0"
   },
   "outputs": [
    {
     "data": {
      "text/plain": [
       "<seaborn.axisgrid.FacetGrid at 0x7f503418b4a8>"
      ]
     },
     "execution_count": 12,
     "metadata": {},
     "output_type": "execute_result"
    },
    {
     "data": {
      "image/png": "[encoded data removed]",
      "text/plain": [
       "<Figure size 360x360 with 1 Axes>"
      ]
     },
     "metadata": {},
     "output_type": "display_data"
    }
   ],
   "source": [
    "sns.lmplot('carat','price', data=data)\n",
    "#   1-4. Carat has a significant positive correlation."
   ]
  },
  {
   "cell_type": "markdown",
   "metadata": {
    "_cell_guid": "86f994dc-d631-4272-85bf-b2418e6090ac",
    "_uuid": "6721e6e7231a38805caf14f0e2b49590b2db4920"
   },
   "source": [
    "**Volume**\n",
    "* Volume = x * y * z\n",
    "* Reduced Features by create Volume\n",
    "* and Volume has a very High correlation with price more than x, y, z"
   ]
  },
  {
   "cell_type": "code",
   "execution_count": 13,
   "metadata": {
    "_cell_guid": "fab17103-4d22-4e24-b460-90ffe64b9855",
    "_uuid": "7c19e1871a248b20987082961ff24677eb978d26"
   },
   "outputs": [
    {
     "name": "stdout",
     "output_type": "stream",
     "text": [
      "(array([13629, 16690, 33289, 36854, 39103]),)\n",
      "(array([16690, 33289, 36854, 39103]),)\n",
      "(array([ 2639,  3072,  7313, 12698, 13629, 14672, 16690, 18538, 19081,\n",
      "       19858, 26559, 27017, 33289, 34391, 36854, 39103, 44935]),)\n"
     ]
    }
   ],
   "source": [
    "# 2. Create Feature volume = x * y * z\n",
    "#   2-1. Outlier Delete for x,y,z = 0\n",
    "#        x,y,z can not have a value of 0 and it is judged to be an invalid data input\n",
    "print(np.where(data['x'] == 0))\n",
    "print(np.where(data['y'] == 0))\n",
    "print(np.where(data['z'] == 0))"
   ]
  },
  {
   "cell_type": "code",
   "execution_count": 14,
   "metadata": {
    "_cell_guid": "1d1bf967-02ef-4039-b940-844a4cafc2bc",
    "_uuid": "2a11f2a0735387e05c55e480b51bc5bea8d2b43b"
   },
   "outputs": [],
   "source": [
    "data = data.drop(data.index[np.where(data['x'] == 0)])\n",
    "data = data.drop(data.index[np.where(data['y'] == 0)])\n",
    "data = data.drop(data.index[np.where(data['z'] == 0)])\n",
    "data = data.reset_index(drop=True)"
   ]
  },
  {
   "cell_type": "code",
   "execution_count": 15,
   "metadata": {
    "_cell_guid": "e17f72b3-5c3e-41ae-9656-d013db0b1da4",
    "_uuid": "de9a423047992ec80aa456a8578f632d6d0fe3f5"
   },
   "outputs": [],
   "source": [
    "# Create Volume\n",
    "data['volume'] = data['x'] * data['y'] * data['z']"
   ]
  },
  {
   "cell_type": "code",
   "execution_count": 16,
   "metadata": {
    "_cell_guid": "e07c7036-96d9-495c-8a1a-db26eac42a87",
    "_uuid": "6890ccbaaa0ea1597f07d579b6b19180f3fc476a"
   },
   "outputs": [
    {
     "name": "stderr",
     "output_type": "stream",
     "text": [
      "/home/asbrocco/anaconda3/lib/python3.6/site-packages/matplotlib/axes/_axes.py:6462: UserWarning: The 'normed' kwarg is deprecated, and has been replaced by the 'density' kwarg.\n",
      "  warnings.warn(\"The 'normed' kwarg is deprecated, and has been \"\n"
     ]
    },
    {
     "data": {
      "text/plain": [
       "<matplotlib.axes._subplots.AxesSubplot at 0x7f50340341d0>"
      ]
     },
     "execution_count": 16,
     "metadata": {},
     "output_type": "execute_result"
    },
    {
     "data": {
      "image/png": "[encoded data removed]",
      "text/plain": [
       "<Figure size 432x288 with 1 Axes>"
      ]
     },
     "metadata": {},
     "output_type": "display_data"
    }
   ],
   "source": [
    "#   2-2. Volume Outlier Delete\n",
    "sns.distplot(data['volume'])"
   ]
  },
  {
   "cell_type": "code",
   "execution_count": 17,
   "metadata": {
    "_cell_guid": "c2ae1c30-ed4c-42bf-86e0-812efa734e4f",
    "_uuid": "8d86d5ee5861c55af541eb2e83b2d6de3f7e6ed0"
   },
   "outputs": [
    {
     "data": {
      "text/plain": [
       "7146"
      ]
     },
     "execution_count": 17,
     "metadata": {},
     "output_type": "execute_result"
    }
   ],
   "source": [
    "data['carat'].ix[np.where(data['volume'] > 200)].count()\n",
    "#   2-3. 다이아몬드의 대부분의 volume은 200이하이며, 200이상의 volume을 가지는 다이아몬드는 전체 다이아몬드의 0.15% 이다."
   ]
  },
  {
   "cell_type": "code",
   "execution_count": 18,
   "metadata": {
    "_cell_guid": "942af9c5-176e-4d18-adc7-e67de3a07225",
    "_uuid": "49d3a8f5593f49407599b4d577365d89be81d8e8"
   },
   "outputs": [
    {
     "data": {
      "text/plain": [
       "(array([45412]),)"
      ]
     },
     "execution_count": 18,
     "metadata": {},
     "output_type": "execute_result"
    }
   ],
   "source": [
    "# In the case of ix 24058, the y value is 58 (y average value 5.73), which is very large and is classified as outliers.\n",
    "np.where(data['volume'] > 1000)"
   ]
  },
  {
   "cell_type": "code",
   "execution_count": 19,
   "metadata": {
    "_cell_guid": "90d3d52f-2c88-4222-a9bf-9aa07c8facb9",
    "_uuid": "bca6b3deac43165e776ee41d32c6416ab1fb2a78"
   },
   "outputs": [
    {
     "data": {
      "text/html": [
       "<div>\n",
       "<style scoped>\n",
       "    .dataframe tbody tr th:only-of-type {\n",
       "        vertical-align: middle;\n",
       "    }\n",
       "\n",
       "    .dataframe tbody tr th {\n",
       "        vertical-align: top;\n",
       "    }\n",
       "\n",
       "    .dataframe thead th {\n",
       "        text-align: right;\n",
       "    }\n",
       "</style>\n",
       "<table border=\"1\" class=\"dataframe\">\n",
       "  <thead>\n",
       "    <tr style=\"text-align: right;\">\n",
       "      <th></th>\n",
       "      <th>carat</th>\n",
       "      <th>cut</th>\n",
       "      <th>color</th>\n",
       "      <th>clarity</th>\n",
       "      <th>x</th>\n",
       "      <th>y</th>\n",
       "      <th>z</th>\n",
       "      <th>depth</th>\n",
       "      <th>table</th>\n",
       "      <th>price</th>\n",
       "      <th>Categoricalcarat</th>\n",
       "      <th>volume</th>\n",
       "    </tr>\n",
       "  </thead>\n",
       "  <tbody>\n",
       "    <tr>\n",
       "      <th>45412</th>\n",
       "      <td>2.0</td>\n",
       "      <td>Premium</td>\n",
       "      <td>H</td>\n",
       "      <td>SI2</td>\n",
       "      <td>8.09</td>\n",
       "      <td>58.9</td>\n",
       "      <td>8.06</td>\n",
       "      <td>58.9</td>\n",
       "      <td>57.0</td>\n",
       "      <td>12210</td>\n",
       "      <td>Carat1</td>\n",
       "      <td>3840.59806</td>\n",
       "    </tr>\n",
       "  </tbody>\n",
       "</table>\n",
       "</div>"
      ],
      "text/plain": [
       "       carat      cut color clarity     x     y     z  depth  table  price  \\\n",
       "45412    2.0  Premium     H     SI2  8.09  58.9  8.06   58.9   57.0  12210   \n",
       "\n",
       "      Categoricalcarat      volume  \n",
       "45412           Carat1  3840.59806  "
      ]
     },
     "execution_count": 19,
     "metadata": {},
     "output_type": "execute_result"
    }
   ],
   "source": [
    "data.ix[np.where(data['volume'] > 1000)]"
   ]
  },
  {
   "cell_type": "code",
   "execution_count": 20,
   "metadata": {
    "_cell_guid": "1cd74f98-ba9e-4d83-9b8a-eea8f3d15ea5",
    "_uuid": "52719c97976f64a348f2b88092f75eee4fb3bb0f"
   },
   "outputs": [
    {
     "name": "stdout",
     "output_type": "stream",
     "text": [
      "Diamiond Y Mean :  5.734092991796101\n"
     ]
    }
   ],
   "source": [
    "print('Diamiond Y Mean : ',data['y'].mean())"
   ]
  },
  {
   "cell_type": "code",
   "execution_count": 21,
   "metadata": {
    "_cell_guid": "edf85be9-79f1-4a89-a84d-62b74cf4a73a",
    "_uuid": "85a93dcb6727c5dba11c936fce464965827917e2"
   },
   "outputs": [],
   "source": [
    "data = data.drop(data.index[np.where(data['volume'] >= 1000)])\n",
    "data = data.reset_index(drop=True)"
   ]
  },
  {
   "cell_type": "code",
   "execution_count": 22,
   "metadata": {
    "_cell_guid": "b876b81c-9a60-4bf3-b471-3fa72dc094f4",
    "_uuid": "51a0fe6975731b99441d3301d23bd55b001ef656"
   },
   "outputs": [],
   "source": [
    "#   2-4. Categorize the all Volume value and See the trend\n",
    "bins = [0, 100, 200, 300, 400, 500, 600, 700, 800, 1000]\n",
    "label = ['Vol0','Vol100','Vol200','Vol300','Vol400','Vol500','Vol600','Vol700','Vol800']\n",
    "data['Categoricalvolume'] = pd.cut(data['volume'], bins, labels=label)"
   ]
  },
  {
   "cell_type": "code",
   "execution_count": 23,
   "metadata": {
    "_cell_guid": "6812464e-251d-4048-a8a8-618ed02e2484",
    "_uuid": "9398b5ed5c22f59a57e9cd78d1e48d0b648a588a"
   },
   "outputs": [
    {
     "data": {
      "text/plain": [
       "<matplotlib.axes._subplots.AxesSubplot at 0x7f503407e4a8>"
      ]
     },
     "execution_count": 23,
     "metadata": {},
     "output_type": "execute_result"
    },
    {
     "data": {
      "image/png": "[encoded data removed]",
      "text/plain": [
       "<Figure size 432x288 with 1 Axes>"
      ]
     },
     "metadata": {},
     "output_type": "display_data"
    }
   ],
   "source": [
    "sns.barplot(x='Categoricalvolume', y='price', data=data)\n",
    "#   2-5. The larger the volume, the increase the average price.\n",
    "#   2-6. However, the average price of the (800 ~) volume is very low, which is likely to be the wrong data."
   ]
  },
  {
   "cell_type": "code",
   "execution_count": 24,
   "metadata": {
    "_cell_guid": "43121c15-152f-4d4f-8a7d-73a36c1fe696",
    "_uuid": "7ea51b56614cf03775d97e06e8218a8eaf6bb4a1"
   },
   "outputs": [
    {
     "data": {
      "text/html": [
       "<div>\n",
       "<style scoped>\n",
       "    .dataframe tbody tr th:only-of-type {\n",
       "        vertical-align: middle;\n",
       "    }\n",
       "\n",
       "    .dataframe tbody tr th {\n",
       "        vertical-align: top;\n",
       "    }\n",
       "\n",
       "    .dataframe thead th {\n",
       "        text-align: right;\n",
       "    }\n",
       "</style>\n",
       "<table border=\"1\" class=\"dataframe\">\n",
       "  <thead>\n",
       "    <tr style=\"text-align: right;\">\n",
       "      <th></th>\n",
       "      <th>carat</th>\n",
       "      <th>cut</th>\n",
       "      <th>color</th>\n",
       "      <th>clarity</th>\n",
       "      <th>x</th>\n",
       "      <th>y</th>\n",
       "      <th>z</th>\n",
       "      <th>depth</th>\n",
       "      <th>table</th>\n",
       "      <th>price</th>\n",
       "      <th>Categoricalcarat</th>\n",
       "      <th>volume</th>\n",
       "      <th>Categoricalvolume</th>\n",
       "    </tr>\n",
       "  </thead>\n",
       "  <tbody>\n",
       "  </tbody>\n",
       "</table>\n",
       "</div>"
      ],
      "text/plain": [
       "Empty DataFrame\n",
       "Columns: [carat, cut, color, clarity, x, y, z, depth, table, price, Categoricalcarat, volume, Categoricalvolume]\n",
       "Index: []"
      ]
     },
     "execution_count": 24,
     "metadata": {},
     "output_type": "execute_result"
    }
   ],
   "source": [
    "data.ix[np.where(data['volume'] >= 800)]\n",
    "#   2-7. y,z values are excessively larger than the average, and Compared with carat, you can see that the y and z values are entered incorrectly."
   ]
  },
  {
   "cell_type": "code",
   "execution_count": 25,
   "metadata": {
    "_cell_guid": "6544d11b-4bbe-4346-b4ff-544e71d0b74a",
    "_uuid": "fee7691de5018242f55e01cf979afe71f797c2fb"
   },
   "outputs": [
    {
     "name": "stdout",
     "output_type": "stream",
     "text": [
      "Diamiond Y Mean :  5.732932949313762\n",
      "Diamiond Z Mean :  3.538826994828859\n"
     ]
    }
   ],
   "source": [
    "print('Diamiond Y Mean : ',data['y'].mean())\n",
    "print('Diamiond Z Mean : ',data['z'].mean())"
   ]
  },
  {
   "cell_type": "code",
   "execution_count": 26,
   "metadata": {
    "_cell_guid": "f4136f13-4512-494c-b611-93d2e016d4cf",
    "_uuid": "0f6e5ecb1402f5fc26caa179c833ac052d4be18e"
   },
   "outputs": [],
   "source": [
    "data = data.drop(data.index[np.where(data['volume'] >= 800)])\n",
    "data = data.reset_index(drop=True)"
   ]
  },
  {
   "cell_type": "code",
   "execution_count": 27,
   "metadata": {
    "_cell_guid": "29b98091-092a-4434-9a96-014ffe7b460d",
    "_uuid": "53a0ab4113233fcff51ef4b7eba20d18010216fd"
   },
   "outputs": [
    {
     "data": {
      "text/plain": [
       "<seaborn.axisgrid.FacetGrid at 0x7f502df29c50>"
      ]
     },
     "execution_count": 27,
     "metadata": {},
     "output_type": "execute_result"
    },
    {
     "data": {
      "image/png": "[encoded data removed]",
      "text/plain": [
       "<Figure size 360x360 with 1 Axes>"
      ]
     },
     "metadata": {},
     "output_type": "display_data"
    }
   ],
   "source": [
    "sns.lmplot('volume','price', data=data)\n",
    "#   2-8. Volume has a significant positive correlation."
   ]
  },
  {
   "cell_type": "markdown",
   "metadata": {
    "_cell_guid": "3468da92-c6b4-4acb-bd54-eb17f4efa94d",
    "_uuid": "325073f41259a89f043083b50952df523b590b5a"
   },
   "source": [
    "**Cut**\n",
    "* Cut is a Ordinal Feature\n",
    "* Encoding is performed by weighting the Cut to the upper grade."
   ]
  },
  {
   "cell_type": "code",
   "execution_count": 28,
   "metadata": {
    "_cell_guid": "3c0c36c0-58b9-4d6d-9a5a-14a1da1ac0b0",
    "_uuid": "9ba5620a8799b14fd254a74852609a8214c18087"
   },
   "outputs": [
    {
     "data": {
      "text/plain": [
       "<matplotlib.axes._subplots.AxesSubplot at 0x7f50340be278>"
      ]
     },
     "execution_count": 28,
     "metadata": {},
     "output_type": "execute_result"
    },
    {
     "data": {
      "image/png": "[encoded data removed]",
      "text/plain": [
       "<Figure size 432x288 with 1 Axes>"
      ]
     },
     "metadata": {},
     "output_type": "display_data"
    }
   ],
   "source": [
    "# Encoding cut, color, clarity\n",
    "# 3. cut : Fair, Good, Very Good, Premium, Ideal\n",
    "sns.countplot(data['cut'], order=['Fair','Good','Very Good','Premium','Ideal'])"
   ]
  },
  {
   "cell_type": "code",
   "execution_count": 29,
   "metadata": {
    "_cell_guid": "6bb449a0-f363-400a-b72e-52fd6107a115",
    "_uuid": "916824b1ef1feef405c4ef639c02cda170a19909"
   },
   "outputs": [
    {
     "data": {
      "text/plain": [
       "30027"
      ]
     },
     "execution_count": 29,
     "metadata": {},
     "output_type": "execute_result"
    }
   ],
   "source": [
    "data['carat'].ix[np.where((data['cut'] == 'Premium') | (data['cut'] == 'Ideal'))].count()\n",
    "#   3-1. Many Diamond  are in higher grade (Premium, Ideal)\n",
    "#   3-2. Premium and Ideal grades, account for 65% of all diamonds."
   ]
  },
  {
   "cell_type": "code",
   "execution_count": 30,
   "metadata": {
    "_cell_guid": "0b2969cb-a660-499f-bab3-bde1d511eee4",
    "_uuid": "c8f1035e8df0bfede24040f5150c9e12182ac08a"
   },
   "outputs": [
    {
     "data": {
      "text/plain": [
       "<matplotlib.axes._subplots.AxesSubplot at 0x7f502df32d68>"
      ]
     },
     "execution_count": 30,
     "metadata": {},
     "output_type": "execute_result"
    },
    {
     "data": {
      "image/png": "[encoded data removed]",
      "text/plain": [
       "<Figure size 432x288 with 1 Axes>"
      ]
     },
     "metadata": {},
     "output_type": "display_data"
    }
   ],
   "source": [
    "sns.barplot(x='cut', y='price', order=['Fair','Good','Very Good','Premium','Ideal'], data=data)\n",
    "#   3-3. The average price is similar for all grades.\n",
    "#   3-4. In particular, the highest grade Ideal, has the lowest average price among all grades.\n",
    "#   3-5. From observations 3-4, we can be deduced that cut has a small impact on average prices."
   ]
  },
  {
   "cell_type": "code",
   "execution_count": 31,
   "metadata": {
    "_cell_guid": "7ff379fb-3710-4069-b3ae-a7125334776c",
    "_uuid": "552925f53879d5fc65106d300c426206679e7151"
   },
   "outputs": [],
   "source": [
    "# Encoding cut\n",
    "data.loc[data['cut'] == 'Fair', 'cut'] = 1\n",
    "data.loc[data['cut'] == 'Good', 'cut'] = 2\n",
    "data.loc[data['cut'] == 'Very Good', 'cut'] = 3\n",
    "data.loc[data['cut'] == 'Premium', 'cut'] = 4\n",
    "data.loc[data['cut'] == 'Ideal', 'cut'] = 5"
   ]
  },
  {
   "cell_type": "markdown",
   "metadata": {
    "_cell_guid": "d8566b06-16c7-4ad8-a90f-a26c5e77b959",
    "_uuid": "6e9cc5609587afba2f2fe043798daa3cfa7aeb4b"
   },
   "source": [
    "**Color**\n",
    "* Color is Ordinal Feature too"
   ]
  },
  {
   "cell_type": "code",
   "execution_count": 32,
   "metadata": {
    "_cell_guid": "1b80c8ad-5246-4a2e-955e-7c42ba8c53f3",
    "_uuid": "101761e138dabcb881e8bf33a88a56b909244cc4"
   },
   "outputs": [
    {
     "data": {
      "text/plain": [
       "<matplotlib.axes._subplots.AxesSubplot at 0x7f502d7c5e10>"
      ]
     },
     "execution_count": 32,
     "metadata": {},
     "output_type": "execute_result"
    },
    {
     "data": {
      "image/png": "[encoded data removed]",
      "text/plain": [
       "<Figure size 432x288 with 1 Axes>"
      ]
     },
     "metadata": {},
     "output_type": "display_data"
    }
   ],
   "source": [
    "# 4. color : J(Worst) I H G F E D(Best)\n",
    "sns.countplot(data['color'], order=['J','I','H','G','F','E','D'])\n",
    "#   4-1. Many Diamond  are in middle grade (G, F)"
   ]
  },
  {
   "cell_type": "code",
   "execution_count": 33,
   "metadata": {
    "_cell_guid": "71cfb59e-d54d-4f5b-b9df-ed5b9112b94f",
    "_uuid": "6b3ec4fe51b9dc36842a475c9399b22d3e7b9c26"
   },
   "outputs": [
    {
     "data": {
      "text/plain": [
       "<matplotlib.axes._subplots.AxesSubplot at 0x7f502d79e048>"
      ]
     },
     "execution_count": 33,
     "metadata": {},
     "output_type": "execute_result"
    },
    {
     "data": {
      "image/png": "[encoded data removed]",
      "text/plain": [
       "<Figure size 432x288 with 1 Axes>"
      ]
     },
     "metadata": {},
     "output_type": "display_data"
    }
   ],
   "source": [
    "sns.barplot(x='color', y='price', order=['J','I','H','G','F','E','D'], data=data)\n",
    "#   4-2. For color, the higher the grade, the lower the average price."
   ]
  },
  {
   "cell_type": "code",
   "execution_count": 34,
   "metadata": {
    "_cell_guid": "15b2ad3c-6893-4c2e-bed7-254dd4ad02d7",
    "_uuid": "e931d1c69aecdcf603cc0c9d40f36275eb140b15"
   },
   "outputs": [
    {
     "name": "stdout",
     "output_type": "stream",
     "text": [
      "Color J Mean Price :  5317.754947368421\n",
      "Color D Mean Price :  3169.76253661899\n"
     ]
    }
   ],
   "source": [
    "print('Color J Mean Price : ', data['price'].ix[np.where(data['color'] == 'J')].mean())\n",
    "print('Color D Mean Price : ', data['price'].ix[np.where(data['color'] == 'D')].mean())\n",
    "#   4-3. Especially, the average price for the lowest grade J($ 5323) is 1.68 times higher than the average price for the highest grade D($ 3168).\n",
    "#   4-4. In observations 4-3, the average price is more influenced by other features than Color."
   ]
  },
  {
   "cell_type": "code",
   "execution_count": 35,
   "metadata": {
    "_cell_guid": "330db9d1-7cf5-4116-9a46-cb9877aadffa",
    "_uuid": "8020d73c43805ecda2826a275e84b4a6ffc76e0b"
   },
   "outputs": [],
   "source": [
    "# Encoding color\n",
    "data.loc[data['color'] == 'J', 'color'] = 1\n",
    "data.loc[data['color'] == 'I', 'color'] = 2\n",
    "data.loc[data['color'] == 'H', 'color'] = 3\n",
    "data.loc[data['color'] == 'G', 'color'] = 4\n",
    "data.loc[data['color'] == 'F', 'color'] = 5\n",
    "data.loc[data['color'] == 'E', 'color'] = 6\n",
    "data.loc[data['color'] == 'D', 'color'] = 7"
   ]
  },
  {
   "cell_type": "markdown",
   "metadata": {
    "_cell_guid": "b32a9e76-7c98-4da0-b911-cc6d76c6e345",
    "_uuid": "e3e5a6917a318314db02564fd6d69b82a4711c7b"
   },
   "source": [
    "**Clarity**\n",
    "* Clarity is Ordinal Feature too"
   ]
  },
  {
   "cell_type": "code",
   "execution_count": 36,
   "metadata": {
    "_cell_guid": "6167caa8-7e4f-4b17-b093-313d2339bebe",
    "_uuid": "dbabcc961d54ebc7f070af79a0c8ebcf363c6013"
   },
   "outputs": [
    {
     "data": {
      "text/plain": [
       "<matplotlib.axes._subplots.AxesSubplot at 0x7f502d6d1d68>"
      ]
     },
     "execution_count": 36,
     "metadata": {},
     "output_type": "execute_result"
    },
    {
     "data": {
      "image/png": "[encoded data removed]",
      "text/plain": [
       "<Figure size 432x288 with 1 Axes>"
      ]
     },
     "metadata": {},
     "output_type": "display_data"
    }
   ],
   "source": [
    "# 5. clarity : I1(Worst), SI2, SI1, VS2, VS1, VVS2, VVS1, IF(Best)\n",
    "sns.countplot(data['clarity'], order=['I1','SI2','SI1','VS2','VS1','VVS2','VVS1','IF'])\n",
    "#   5-1. Many Diamond  are in lower grade (SI2, SI1, VS2)"
   ]
  },
  {
   "cell_type": "code",
   "execution_count": 37,
   "metadata": {
    "_cell_guid": "754f7206-1daf-410a-aec1-6551483db76a",
    "_uuid": "18c1fc843de76621b52166c611cf8629ed329db0"
   },
   "outputs": [
    {
     "data": {
      "text/plain": [
       "<matplotlib.axes._subplots.AxesSubplot at 0x7f502d63f278>"
      ]
     },
     "execution_count": 37,
     "metadata": {},
     "output_type": "execute_result"
    },
    {
     "data": {
      "image/png": "[encoded data removed]",
      "text/plain": [
       "<Figure size 432x288 with 1 Axes>"
      ]
     },
     "metadata": {},
     "output_type": "display_data"
    }
   ],
   "source": [
    "sns.barplot(x='clarity', y='price', order=['I1','SI2','SI1','VS2','VS1','VVS2','VVS1','IF'], data=data)\n",
    "#   5-2. Overall, the higher the grade, the lower the average price."
   ]
  },
  {
   "cell_type": "code",
   "execution_count": 38,
   "metadata": {
    "_cell_guid": "e185a2c6-2ea6-46ec-b8e7-434f23c7c40d",
    "_uuid": "48e95d8fa23d083de0d90aedc7610ab9c57fbb8a"
   },
   "outputs": [
    {
     "name": "stdout",
     "output_type": "stream",
     "text": [
      "Clatity SI2 Mean Price :  5063.688575096277\n",
      "Clatity IF Mean Price :  2914.86415601883\n"
     ]
    }
   ],
   "source": [
    "print('Clatity SI2 Mean Price : ', data['price'].ix[np.where(data['clarity'] == 'SI2')].mean())\n",
    "print('Clatity IF Mean Price : ', data['price'].ix[np.where(data['clarity'] == 'IF')].mean())\n",
    "#   5-3. the average price for the lower grade SI2($ 5059) is 1.78 times higher than the average price for the highest grade IF($ 2864) too."
   ]
  },
  {
   "cell_type": "code",
   "execution_count": 39,
   "metadata": {
    "_cell_guid": "b1d8da5b-851f-4047-a46a-c500200b7b20",
    "_uuid": "bbc3b1f6bce7b1331f7e90a6929710badc5c3672"
   },
   "outputs": [],
   "source": [
    "# Encoding clarity\n",
    "data.loc[data['clarity'] == 'I1', 'clarity'] = 1\n",
    "data.loc[data['clarity'] == 'SI2', 'clarity'] = 2\n",
    "data.loc[data['clarity'] == 'SI1', 'clarity'] = 3\n",
    "data.loc[data['clarity'] == 'VS2', 'clarity'] = 4\n",
    "data.loc[data['clarity'] == 'VS1', 'clarity'] = 5\n",
    "data.loc[data['clarity'] == 'VVS2', 'clarity'] = 6\n",
    "data.loc[data['clarity'] == 'VVS1', 'clarity'] = 7\n",
    "data.loc[data['clarity'] == 'IF', 'clarity'] = 8"
   ]
  },
  {
   "cell_type": "markdown",
   "metadata": {
    "_cell_guid": "b9860d8d-a987-40b4-8970-369e208d63c4",
    "_uuid": "db8b68695444e01f74fcc9c755a1606170c49ffa"
   },
   "source": [
    "**Depth**\n",
    "* Depth = z / mean(x , y)"
   ]
  },
  {
   "cell_type": "code",
   "execution_count": 40,
   "metadata": {
    "_cell_guid": "04083130-cebe-4d55-82de-7d4f8f10e0c2",
    "_uuid": "057047992beb6d29f720255d6f019c3ab6821140"
   },
   "outputs": [
    {
     "name": "stderr",
     "output_type": "stream",
     "text": [
      "/home/asbrocco/anaconda3/lib/python3.6/site-packages/matplotlib/axes/_axes.py:6462: UserWarning: The 'normed' kwarg is deprecated, and has been replaced by the 'density' kwarg.\n",
      "  warnings.warn(\"The 'normed' kwarg is deprecated, and has been \"\n"
     ]
    },
    {
     "data": {
      "text/plain": [
       "<matplotlib.axes._subplots.AxesSubplot at 0x7f502d5beb00>"
      ]
     },
     "execution_count": 40,
     "metadata": {},
     "output_type": "execute_result"
    },
    {
     "data": {
      "image/png": "[encoded data removed]",
      "text/plain": [
       "<Figure size 432x288 with 1 Axes>"
      ]
     },
     "metadata": {},
     "output_type": "display_data"
    }
   ],
   "source": [
    "# 6. depth\n",
    "sns.distplot(data['depth'])"
   ]
  },
  {
   "cell_type": "code",
   "execution_count": 41,
   "metadata": {
    "_cell_guid": "15109aa6-3b43-4ada-bdee-43934ecb6922",
    "_uuid": "1fd2d64e2697549ef8e81dccc4f34d452852a75a"
   },
   "outputs": [
    {
     "data": {
      "text/plain": [
       "40261"
      ]
     },
     "execution_count": 41,
     "metadata": {},
     "output_type": "execute_result"
    }
   ],
   "source": [
    "data['depth'].ix[np.where((data['depth'] > 60) & (data['depth'] < 65))].count()\n",
    "#   6-1. Most diamonds(88%) have depth values between (60 ~ 65)"
   ]
  },
  {
   "cell_type": "code",
   "execution_count": 42,
   "metadata": {
    "_cell_guid": "63f50675-671b-49c7-942c-21dab119aa92",
    "_uuid": "128388f05ce10e6a1c675f4ce7403ed526356260"
   },
   "outputs": [],
   "source": [
    "bins = [0, 50, 55, 60, 65, 70, 75, 80]\n",
    "label = ['depth0','depth50','depth55','depth60','depth65','depth70','depth75']\n",
    "data['Categoricaldepth'] = pd.cut(data['depth'], bins, labels=label)"
   ]
  },
  {
   "cell_type": "code",
   "execution_count": 43,
   "metadata": {
    "_cell_guid": "78ef4d72-90c1-4ea9-9246-1cc0d6ba77d3",
    "_uuid": "e521b2073aba33d3e28607f163d1acdcc5fa0871"
   },
   "outputs": [
    {
     "data": {
      "text/plain": [
       "<matplotlib.axes._subplots.AxesSubplot at 0x7f502d5e7828>"
      ]
     },
     "execution_count": 43,
     "metadata": {},
     "output_type": "execute_result"
    },
    {
     "data": {
      "image/png": "[encoded data removed]",
      "text/plain": [
       "<Figure size 432x288 with 1 Axes>"
      ]
     },
     "metadata": {},
     "output_type": "display_data"
    }
   ],
   "source": [
    "sns.barplot(x='Categoricaldepth', y='price', data=data)\n",
    "#   6-2. depth has a similar average price as a whole, but the average price is lowered by more than half in a certain interval (50 ~ 55) and (70 ~ 75"
   ]
  },
  {
   "cell_type": "code",
   "execution_count": 44,
   "metadata": {
    "_cell_guid": "78ea8713-7d28-489a-8686-fc1b1d4c4d6d",
    "_uuid": "2db418dbe24703f9fa028240b55031f3a80d86fc"
   },
   "outputs": [
    {
     "data": {
      "text/plain": [
       "<seaborn.axisgrid.FacetGrid at 0x7f502d4f96a0>"
      ]
     },
     "execution_count": 44,
     "metadata": {},
     "output_type": "execute_result"
    },
    {
     "data": {
      "image/png": "[encoded data removed]",
      "text/plain": [
       "<Figure size 360x360 with 1 Axes>"
      ]
     },
     "metadata": {},
     "output_type": "display_data"
    }
   ],
   "source": [
    "sns.lmplot('depth','price', data=data)\n",
    "#   6-3. depth has a weak negative correlation."
   ]
  },
  {
   "cell_type": "code",
   "execution_count": 45,
   "metadata": {
    "_cell_guid": "dfaebf9b-0e93-419a-b4c6-2a3c7ea6a343",
    "_uuid": "4cfa3476f01e41f44ec5ebbf6b86535a66a0708c"
   },
   "outputs": [
    {
     "name": "stderr",
     "output_type": "stream",
     "text": [
      "/home/asbrocco/anaconda3/lib/python3.6/site-packages/matplotlib/axes/_axes.py:6462: UserWarning: The 'normed' kwarg is deprecated, and has been replaced by the 'density' kwarg.\n",
      "  warnings.warn(\"The 'normed' kwarg is deprecated, and has been \"\n"
     ]
    },
    {
     "data": {
      "text/plain": [
       "29731"
      ]
     },
     "execution_count": 45,
     "metadata": {},
     "output_type": "execute_result"
    },
    {
     "data": {
      "image/png": "[encoded data removed]",
      "text/plain": [
       "<Figure size 432x288 with 1 Axes>"
      ]
     },
     "metadata": {},
     "output_type": "display_data"
    }
   ],
   "source": [
    "# 7. table\n",
    "sns.distplot(data['table'])\n",
    "data['table'].ix[np.where((data['table'] > 55) & (data['table'] < 60))].count()\n",
    "#   7-1. Most diamonds(84%) have depth values between (60 ~ 65)"
   ]
  },
  {
   "cell_type": "code",
   "execution_count": 46,
   "metadata": {
    "_cell_guid": "49bb05a2-9576-4683-805c-a66c9ff5c544",
    "_uuid": "f6f01c74dd08f74eacdc542301ae021186d005e5"
   },
   "outputs": [],
   "source": [
    "bins = [0, 50, 55, 60, 65, 70, 75, 100]\n",
    "label = ['table0','table50','table55','table60','table65','table70','table75']\n",
    "data['Categoricaltable'] = pd.cut(data['table'], bins, labels=label)"
   ]
  },
  {
   "cell_type": "code",
   "execution_count": 47,
   "metadata": {
    "_cell_guid": "73589b51-3439-4936-a2d8-506d5bc22262",
    "_uuid": "b9742490a5c4875d694dbcb9aca76762ee08ffb5",
    "scrolled": true
   },
   "outputs": [
    {
     "data": {
      "text/plain": [
       "<matplotlib.axes._subplots.AxesSubplot at 0x7f502d4d54a8>"
      ]
     },
     "execution_count": 47,
     "metadata": {},
     "output_type": "execute_result"
    },
    {
     "data": {
      "image/png": "[encoded data removed]",
      "text/plain": [
       "<Figure size 432x288 with 1 Axes>"
      ]
     },
     "metadata": {},
     "output_type": "display_data"
    }
   ],
   "source": [
    "sns.barplot(x='Categoricaltable', y='price', data=data)\n",
    "#   7-2. The table also has a similar average price as a whole, but the average price is lowered by more than half in a certain interval (70 ~ 75).\n",
    "#   7-3. (75 ~) interval has a large variance, but the number of diamonds in the interval is very small, so there is no big influence.\n"
   ]
  },
  {
   "cell_type": "code",
   "execution_count": 48,
   "metadata": {
    "_cell_guid": "a42e57f4-5d1a-45d7-a8c1-62de048dc6dd",
    "_uuid": "edd31852bf9f57749307e73b990c84957893c239"
   },
   "outputs": [
    {
     "data": {
      "text/plain": [
       "<seaborn.axisgrid.FacetGrid at 0x7f502d2c7748>"
      ]
     },
     "execution_count": 48,
     "metadata": {},
     "output_type": "execute_result"
    },
    {
     "data": {
      "image/png": "[encoded data removed]",
      "text/plain": [
       "<Figure size 360x360 with 1 Axes>"
      ]
     },
     "metadata": {},
     "output_type": "display_data"
    }
   ],
   "source": [
    "sns.lmplot('table','price', data=data)\n",
    "#   7-4. table has a weak positive correlation."
   ]
  },
  {
   "cell_type": "markdown",
   "metadata": {
    "_cell_guid": "cf57d1de-050c-4456-83f4-79cd26699318",
    "_uuid": "912588da2f17a9f6915ffbb077096c519c9b35e1"
   },
   "source": [
    "** From the above observations, the most important factor affecting the price of diamonds is carat, volume.**"
   ]
  },
  {
   "cell_type": "code",
   "execution_count": 49,
   "metadata": {
    "_cell_guid": "9036e3eb-8d6c-4a85-968e-e7bfc7fde033",
    "_uuid": "b69fd5009601d29fd4fae7a4eaf57a912bcfa909"
   },
   "outputs": [],
   "source": [
    "# Data Cleaning\n",
    "data = data.drop(['x','y','z'], axis=1)\n",
    "data = data.drop(['Categoricalvolume','Categoricalcarat','Categoricaldepth','Categoricaltable'], axis=1)"
   ]
  },
  {
   "cell_type": "code",
   "execution_count": 50,
   "metadata": {
    "_cell_guid": "2180d13f-857b-401c-9fab-fc8e5add8b1a",
    "_uuid": "94923778857d88daf90b1b9fa3aa18df34e81f7e"
   },
   "outputs": [
    {
     "data": {
      "text/html": [
       "<div>\n",
       "<style scoped>\n",
       "    .dataframe tbody tr th:only-of-type {\n",
       "        vertical-align: middle;\n",
       "    }\n",
       "\n",
       "    .dataframe tbody tr th {\n",
       "        vertical-align: top;\n",
       "    }\n",
       "\n",
       "    .dataframe thead th {\n",
       "        text-align: right;\n",
       "    }\n",
       "</style>\n",
       "<table border=\"1\" class=\"dataframe\">\n",
       "  <thead>\n",
       "    <tr style=\"text-align: right;\">\n",
       "      <th></th>\n",
       "      <th>carat</th>\n",
       "      <th>cut</th>\n",
       "      <th>color</th>\n",
       "      <th>clarity</th>\n",
       "      <th>depth</th>\n",
       "      <th>table</th>\n",
       "      <th>price</th>\n",
       "      <th>volume</th>\n",
       "    </tr>\n",
       "  </thead>\n",
       "  <tbody>\n",
       "    <tr>\n",
       "      <th>0</th>\n",
       "      <td>1.62</td>\n",
       "      <td>5</td>\n",
       "      <td>2</td>\n",
       "      <td>4</td>\n",
       "      <td>62.1</td>\n",
       "      <td>55.0</td>\n",
       "      <td>10501</td>\n",
       "      <td>267.693006</td>\n",
       "    </tr>\n",
       "    <tr>\n",
       "      <th>1</th>\n",
       "      <td>0.30</td>\n",
       "      <td>4</td>\n",
       "      <td>4</td>\n",
       "      <td>3</td>\n",
       "      <td>58.8</td>\n",
       "      <td>60.0</td>\n",
       "      <td>574</td>\n",
       "      <td>49.078005</td>\n",
       "    </tr>\n",
       "    <tr>\n",
       "      <th>2</th>\n",
       "      <td>1.37</td>\n",
       "      <td>5</td>\n",
       "      <td>5</td>\n",
       "      <td>5</td>\n",
       "      <td>59.6</td>\n",
       "      <td>57.0</td>\n",
       "      <td>11649</td>\n",
       "      <td>227.066112</td>\n",
       "    </tr>\n",
       "    <tr>\n",
       "      <th>3</th>\n",
       "      <td>0.33</td>\n",
       "      <td>1</td>\n",
       "      <td>3</td>\n",
       "      <td>6</td>\n",
       "      <td>65.1</td>\n",
       "      <td>59.0</td>\n",
       "      <td>922</td>\n",
       "      <td>53.982720</td>\n",
       "    </tr>\n",
       "    <tr>\n",
       "      <th>4</th>\n",
       "      <td>0.32</td>\n",
       "      <td>3</td>\n",
       "      <td>5</td>\n",
       "      <td>4</td>\n",
       "      <td>58.8</td>\n",
       "      <td>62.0</td>\n",
       "      <td>602</td>\n",
       "      <td>51.997568</td>\n",
       "    </tr>\n",
       "    <tr>\n",
       "      <th>5</th>\n",
       "      <td>0.51</td>\n",
       "      <td>4</td>\n",
       "      <td>6</td>\n",
       "      <td>2</td>\n",
       "      <td>62.7</td>\n",
       "      <td>52.0</td>\n",
       "      <td>1205</td>\n",
       "      <td>84.904960</td>\n",
       "    </tr>\n",
       "    <tr>\n",
       "      <th>6</th>\n",
       "      <td>1.50</td>\n",
       "      <td>2</td>\n",
       "      <td>3</td>\n",
       "      <td>4</td>\n",
       "      <td>63.6</td>\n",
       "      <td>58.0</td>\n",
       "      <td>10291</td>\n",
       "      <td>241.976134</td>\n",
       "    </tr>\n",
       "    <tr>\n",
       "      <th>7</th>\n",
       "      <td>0.85</td>\n",
       "      <td>5</td>\n",
       "      <td>4</td>\n",
       "      <td>5</td>\n",
       "      <td>61.8</td>\n",
       "      <td>55.0</td>\n",
       "      <td>4373</td>\n",
       "      <td>140.281323</td>\n",
       "    </tr>\n",
       "    <tr>\n",
       "      <th>8</th>\n",
       "      <td>0.33</td>\n",
       "      <td>5</td>\n",
       "      <td>5</td>\n",
       "      <td>5</td>\n",
       "      <td>61.2</td>\n",
       "      <td>56.0</td>\n",
       "      <td>723</td>\n",
       "      <td>54.869596</td>\n",
       "    </tr>\n",
       "    <tr>\n",
       "      <th>9</th>\n",
       "      <td>1.10</td>\n",
       "      <td>5</td>\n",
       "      <td>4</td>\n",
       "      <td>5</td>\n",
       "      <td>61.3</td>\n",
       "      <td>54.0</td>\n",
       "      <td>6535</td>\n",
       "      <td>181.957965</td>\n",
       "    </tr>\n",
       "  </tbody>\n",
       "</table>\n",
       "</div>"
      ],
      "text/plain": [
       "   carat  cut  color  clarity  depth  table  price      volume\n",
       "0   1.62    5      2        4   62.1   55.0  10501  267.693006\n",
       "1   0.30    4      4        3   58.8   60.0    574   49.078005\n",
       "2   1.37    5      5        5   59.6   57.0  11649  227.066112\n",
       "3   0.33    1      3        6   65.1   59.0    922   53.982720\n",
       "4   0.32    3      5        4   58.8   62.0    602   51.997568\n",
       "5   0.51    4      6        2   62.7   52.0   1205   84.904960\n",
       "6   1.50    2      3        4   63.6   58.0  10291  241.976134\n",
       "7   0.85    5      4        5   61.8   55.0   4373  140.281323\n",
       "8   0.33    5      5        5   61.2   56.0    723   54.869596\n",
       "9   1.10    5      4        5   61.3   54.0   6535  181.957965"
      ]
     },
     "execution_count": 50,
     "metadata": {},
     "output_type": "execute_result"
    }
   ],
   "source": [
    "data.head(10)"
   ]
  },
  {
   "cell_type": "code",
   "execution_count": 51,
   "metadata": {
    "_cell_guid": "a2c960ac-d561-4abb-b9cc-696e08e2f926",
    "_uuid": "5f613f2c6fe3da9ba8b5168d6e231a2bc4afbcee"
   },
   "outputs": [
    {
     "data": {
      "text/plain": [
       "<matplotlib.axes._subplots.AxesSubplot at 0x7f502d2a89e8>"
      ]
     },
     "execution_count": 51,
     "metadata": {},
     "output_type": "execute_result"
    },
    {
     "data": {
      "image/png": "[encoded data removed]",
      "text/plain": [
       "<Figure size 720x576 with 2 Axes>"
      ]
     },
     "metadata": {},
     "output_type": "display_data"
    }
   ],
   "source": [
    "plt.figure(figsize=(10, 8))\n",
    "sns.heatmap(data.corr(), cmap='RdBu_r', annot=True, linewidths=0.5, center=0)"
   ]
  },
  {
   "cell_type": "markdown",
   "metadata": {
    "_cell_guid": "d105ff5b-5e48-4af6-858c-66f3959b5588",
    "_uuid": "81db36e363aedd0831fa3583fc27b2524515f287"
   },
   "source": [
    "**3. Cleaned up Data Set prepare**\n",
    "1. Set Explanatory variable X, Response variable y(Price)\n",
    "2. Scale Standardization\n",
    "3. Data Split (Train, Test) - Test ratio 0.25"
   ]
  },
  {
   "cell_type": "code",
   "execution_count": 52,
   "metadata": {
    "_cell_guid": "d3c974ea-fee8-4387-8b49-1a8554afdce3",
    "_uuid": "7fc5d2758c28f51c87c9989d6fbfa91078bf6fee"
   },
   "outputs": [],
   "source": [
    "# ###################################################################\n",
    "# Explanatory variable X, Response variable y\n",
    "X = data.drop(['price'], axis=1)\n",
    "y = data['price']"
   ]
  },
  {
   "cell_type": "code",
   "execution_count": 53,
   "metadata": {
    "_cell_guid": "b35fed9d-6c59-4de5-a6d3-f31c4026c9c1",
    "_uuid": "5ac2b530f88f7e5de938f4c43a138c61944f5d70"
   },
   "outputs": [],
   "source": [
    "# ###################################################################\n",
    "# Scale Standardization\n",
    "# Scale the data to be between -1 and 1\n",
    "sc = StandardScaler()\n",
    "X = sc.fit_transform(X)"
   ]
  },
  {
   "cell_type": "code",
   "execution_count": 54,
   "metadata": {
    "_cell_guid": "a617cef9-a9ad-444b-b211-672f7655eb44",
    "_uuid": "84f1031aaa2c0493e593724df669b810cc1f3163"
   },
   "outputs": [],
   "source": [
    "# ###################################################################\n",
    "# Data Split\n",
    "seed = 940224\n",
    "X_train, X_test, y_train, y_test = train_test_split(X, y, test_size=0.25, random_state=seed)"
   ]
  },
  {
   "cell_type": "code",
   "execution_count": 55,
   "metadata": {
    "_cell_guid": "8f599c66-6097-478e-b8aa-2c472cc88329",
    "_uuid": "a48cadef4ee72115a012cc5b7fc28f458c1ca718"
   },
   "outputs": [],
   "source": [
    "# ###################################################################\n",
    "# Visualization, Report Ver.2\n",
    "# Functions for visualizing results\n",
    "def pred_vis(name, y_test_vis, y_pred_vis):\n",
    "    if y_test_vis.shape[0] > 200:\n",
    "        y_test_vis = y_test_vis[:200]\n",
    "        y_pred_vis = y_pred_vis[:200]\n",
    "        \n",
    "    y_test_m_vis = y_test_vis.as_matrix()\n",
    "    plt.figure(figsize=(12,5))\n",
    "    plt.title('%s Prediction' %name)\n",
    "    plt.plot(y_test_m_vis, c='steelblue', alpha=1)\n",
    "    plt.plot(y_pred_vis, c='darkorange', alpha=2)\n",
    "    legend_list = ['y_test', 'y_pred']\n",
    "    plt.xlabel('Var')\n",
    "    plt.ylabel('Output')\n",
    "    plt.legend(legend_list, loc=1, fontsize='10')\n",
    "    plt.grid(True)\n",
    "    plt.show()\n",
    "\n",
    "    \n",
    "# GridSearchCV, RandomizedSearchCV Report Function\n",
    "# -> by. scikit-learn.org \"Comparing randomized search and grid search for hyperparameter estimation\"\n",
    "def report(results, n_top=3):\n",
    "    lcount = 0\n",
    "    for i in range(1, n_top + 1):\n",
    "        candidates = np.flatnonzero(results['rank_test_score'] == i)\n",
    "        for candidate in candidates:\n",
    "            print(\"Model with rank: {0}\".format(i))\n",
    "            print(\"Mean validation score: {0:.3f} (std: {1:.3f})\".format(\n",
    "                    results['mean_test_score'][candidate],\n",
    "                    results['std_test_score'][candidate]))\n",
    "            print(\"Parameters: {0}\".format(results['params'][candidate]))\n",
    "            print(\"\")\n",
    "            if lcount > 2:\n",
    "                break\n",
    "            lcount += 1\n",
    "\n",
    "\n",
    "def model_scores(y_test,y_pred):\n",
    "    mse = mean_squared_error(y_test, y_pred)\n",
    "    mae = mean_absolute_error(y_test, y_pred)\n",
    "    rmse = mean_squared_error(y_test, y_pred)**0.5\n",
    "    r2 = r2_score(y_test, y_pred)\n",
    "    global X_test\n",
    "    adj_r2 = 1 - (1 - r2)*float(len(y_test)-1)/(len(y_test)-X_test.shape[1]-1)\n",
    "\n",
    "    print('MSE    : %0.2f ' % mse)\n",
    "    print('MAE    : %0.2f ' % mae)\n",
    "    print('RMSE   : %0.2f ' % rmse)\n",
    "    print('R2     : %0.2f ' % r2)\n",
    "    print('Adj_R2 : %0.2f ' % adj_r2)\n",
    "    return {'mse':[mse], 'rmse':[rmse], 'r2':[r2]}\n",
    "\n",
    "\n",
    "def result_vis(r2_results_vis, names_vis):\n",
    "    fig =plt.figure(figsize=(6,6))\n",
    "    fig.suptitle('Algorithm Comparison - R2')\n",
    "    ax = fig.add_subplot(111)\n",
    "    plt.barh(np.arange(len(names_vis)), sum(r2_results_vis, []), align=\"center\")\n",
    "    ax.set_yticks(np.arange(len(names_vis)))\n",
    "    ax.set_yticklabels(names_vis)\n",
    "    ax.invert_yaxis()  # labels read top-to-bottom\n",
    "    plt.grid(True)"
   ]
  },
  {
   "cell_type": "markdown",
   "metadata": {
    "_cell_guid": "83b2d9da-9ab4-4972-aa0a-bf8bb830da60",
    "_uuid": "7af1105439c96c42cbb643e1bde779ac816b27c0"
   },
   "source": [
    "**4. Define MachineLearning Model**\n",
    "1. RandomForest\n",
    "2. GradientBoosting\n",
    "3. XGB"
   ]
  },
  {
   "cell_type": "code",
   "execution_count": 56,
   "metadata": {
    "_cell_guid": "15101283-51ad-4ade-a46c-24d54f6af890",
    "_uuid": "7c6564cfefd3acb2fc58f98cc5620492b8e82b76"
   },
   "outputs": [
    {
     "ename": "NameError",
     "evalue": "name 'xgb' is not defined",
     "output_type": "error",
     "traceback": [
      "\u001b[0;31m---------------------------------------------------------------------------\u001b[0m",
      "\u001b[0;31mNameError\u001b[0m                                 Traceback (most recent call last)",
      "\u001b[0;32m<ipython-input-56-8fc39e36c2e7>\u001b[0m in \u001b[0;36m<module>\u001b[0;34m()\u001b[0m\n\u001b[1;32m      3\u001b[0m \u001b[0mmodels\u001b[0m\u001b[0;34m.\u001b[0m\u001b[0mappend\u001b[0m\u001b[0;34m(\u001b[0m\u001b[0;34m(\u001b[0m\u001b[0;34m'AdaBoost     '\u001b[0m\u001b[0;34m,\u001b[0m \u001b[0mAdaBoostRegressor\u001b[0m\u001b[0;34m(\u001b[0m\u001b[0mn_estimators\u001b[0m\u001b[0;34m=\u001b[0m\u001b[0;36m1000\u001b[0m\u001b[0;34m)\u001b[0m\u001b[0;34m)\u001b[0m\u001b[0;34m)\u001b[0m\u001b[0;34m\u001b[0m\u001b[0m\n\u001b[1;32m      4\u001b[0m \u001b[0mmodels\u001b[0m\u001b[0;34m.\u001b[0m\u001b[0mappend\u001b[0m\u001b[0;34m(\u001b[0m\u001b[0;34m(\u001b[0m\u001b[0;34m'GBM          '\u001b[0m\u001b[0;34m,\u001b[0m \u001b[0mGradientBoostingRegressor\u001b[0m\u001b[0;34m(\u001b[0m\u001b[0mn_estimators\u001b[0m\u001b[0;34m=\u001b[0m\u001b[0;36m1000\u001b[0m\u001b[0;34m)\u001b[0m\u001b[0;34m)\u001b[0m\u001b[0;34m)\u001b[0m\u001b[0;34m\u001b[0m\u001b[0m\n\u001b[0;32m----> 5\u001b[0;31m \u001b[0mmodels\u001b[0m\u001b[0;34m.\u001b[0m\u001b[0mappend\u001b[0m\u001b[0;34m(\u001b[0m\u001b[0;34m(\u001b[0m\u001b[0;34m'XGBoost      '\u001b[0m\u001b[0;34m,\u001b[0m \u001b[0mxgb\u001b[0m\u001b[0;34m.\u001b[0m\u001b[0mXGBRegressor\u001b[0m\u001b[0;34m(\u001b[0m\u001b[0mbooster\u001b[0m\u001b[0;34m=\u001b[0m\u001b[0;34m'gbtree'\u001b[0m\u001b[0;34m,\u001b[0m\u001b[0mobjective\u001b[0m\u001b[0;34m=\u001b[0m\u001b[0;34m'reg:linear'\u001b[0m\u001b[0;34m,\u001b[0m\u001b[0mn_estimators\u001b[0m\u001b[0;34m=\u001b[0m\u001b[0;36m1000\u001b[0m\u001b[0;34m)\u001b[0m\u001b[0;34m)\u001b[0m\u001b[0;34m)\u001b[0m\u001b[0;34m\u001b[0m\u001b[0m\n\u001b[0m",
      "\u001b[0;31mNameError\u001b[0m: name 'xgb' is not defined"
     ]
    }
   ],
   "source": [
    "models = []\n",
    "models.append(('RandomForest ', RandomForestRegressor(n_estimators=1000)))\n",
    "models.append(('AdaBoost     ', AdaBoostRegressor(n_estimators=1000)))\n",
    "models.append(('GBM          ', GradientBoostingRegressor(n_estimators=1000)))\n",
    "models.append(('XGBoost      ', xgb.XGBRegressor(booster='gbtree',objective='reg:linear',n_estimators=1000)))"
   ]
  },
  {
   "cell_type": "markdown",
   "metadata": {
    "_cell_guid": "87e4a139-20bb-4ff6-9188-7d974fc56c52",
    "_uuid": "680790759b157d10cdc66fe1847f904ecfc08d3c"
   },
   "source": [
    "** * If you want to find the optimal parameters?**\n",
    "* Use SearchCV (GridSearchCV, RandomizedSearchCV\n",
    "* However, it takes a lot of computing power and time(especially GridSearchCV) to obtain optimal parameters using searchCV."
   ]
  },
  {
   "cell_type": "code",
   "execution_count": null,
   "metadata": {
    "_cell_guid": "b1ec9183-290a-4d75-8e37-26fc9d70412f",
    "_uuid": "9d2d56bde454044b0b954da9629cfaa46492d29e"
   },
   "outputs": [],
   "source": [
    "#Hyperparameter Grid Ver.1\n",
    "# param_grid = {\n",
    "#        'RandomForest'  : {'n_estimators'       : st.randint(500, 1000),\n",
    "#                           'max_features'       : ['auto','sqrt','log2'],\n",
    "#                           'max_depth'          : st.randint(1, 20),\n",
    "#                           'min_samples_split'  : st.randint(2, 50),    \n",
    "#                           'min_samples_leaf'   : st.randint(1, 50),\n",
    "#                           'criterion'          : ['mse', 'mae']},\n",
    "#                           \n",
    "#        'Adaboost'      : {'n_estimators'       : st.randint(500, 1000),\n",
    "#                           'learning_rate'      : st.uniform(0.001, 0.1),\n",
    "#                           'loss'               : ['linear', 'square', 'exponential']},\n",
    "#                           \n",
    "#        'GBM'           : {'n_estimators'       : st.randint(1000, 5000),\n",
    "#                           'max_depth'          : st.randint(1, 20),\n",
    "#                           'learning_rate'      : st.uniform(0.001, 0.1),\n",
    "#                           'min_samples_split'  : st.randint(2, 50),\n",
    "#                           'min_samples_leaf'   : st.randint(2, 50)},\n",
    "#\n",
    "#        'XGB'           : {'n_estimators'       : st.randint(1000, 5000),\n",
    "#                           'max_depth'          : st.randint(1, 20),\n",
    "#                           'learning_rate'      : st.uniform(0.001, 0.1),\n",
    "#                           'colsample_bytree'   : st.beta(10, 1),\n",
    "#                           'subsample'          : st.beta(10, 1),\n",
    "#                           'gamma'              : st.uniform(0, 10),\n",
    "#                           'min_child_weight'   : st.expon(0, 10)}\n",
    "#}\n",
    "\n",
    "# MODELS - param_grid\n",
    "# models = []\n",
    "# models.append(('RandomForest ', RandomizedSearchCV(RandomForestRegressor(), param_grid['RandomForest'], scoring='r2', cv=Kfold, n_jobs=-1, n_iter=100, random_state=seed)))\n",
    "# models.append(('AdaBoost     ', RandomizedSearchCV(AdaBoostRegressor(), param_grid['AdaBoost'], scoring='r2', cv=Kfold, n_jobs=-1, n_iter=100, random_state=seed)))\n",
    "# models.append(('GBM          ', RandomizedSearchCV(GradientBoostingRegressor(), param_grid['GBM'], scoring='r2', cv=Kfold, n_jobs=-1, n_iter=100, random_state=seed)))\n",
    "# models.append(('XGBoost      ', RandomizedSearchCV(xgb.XGBRegressor(booster='gbtree',objective='reg:linear'), param_grid['XGB'], scoring='r2', cv=Kfold, n_jobs=-1, n_iter=100, random_state=seed)))"
   ]
  },
  {
   "cell_type": "markdown",
   "metadata": {
    "_cell_guid": "1b039e4b-9bd2-46f0-b1e8-30c32b8a7b7a",
    "_uuid": "150f26c1f65f7a549bc4f47d4e25ef7712179038"
   },
   "source": [
    "**5. Training and Evaluate Each Model**\n",
    "1. Model Fit\n",
    "2. Model Report\n",
    "3. Visualization"
   ]
  },
  {
   "cell_type": "code",
   "execution_count": null,
   "metadata": {
    "_cell_guid": "516af8cb-f416-4232-96f9-cfc4416552a9",
    "_uuid": "c825e25d9fd59053d94942c32d28809eb22d3bde",
    "scrolled": true
   },
   "outputs": [],
   "source": [
    "r2_results = []\n",
    "names = []\n",
    "\n",
    "for name, model in models:\n",
    "    model.fit(X_train, y_train)\n",
    "    y_pred = model.predict(X_test)\n",
    "    \n",
    "    print('')\n",
    "    print('## %s ##################################' % name)\n",
    "    print('Test score : %.4f' % model.score(X_test, y_test))\n",
    "    results = model_scores(y_test, y_pred)\n",
    "\n",
    "    pred_vis(name, y_test, y_pred)\n",
    "    \n",
    "    r2_results.append(results['r2'])\n",
    "    names.append(name.replace(' ', ''))"
   ]
  },
  {
   "cell_type": "markdown",
   "metadata": {
    "_cell_guid": "339b3520-839e-4815-aac2-5c5f8f79ba42",
    "_uuid": "9eba8350683e687538361f307369a90d1705f265"
   },
   "source": [
    "**Evaluate Report**\n",
    "\n",
    "**1. RandomForest**\n",
    "* R2 score : 0.9805\n",
    "* RMSE     : 555.66\n",
    "\n",
    "**2. AdaBoost**\n",
    "* R2 score : 0.8867\n",
    "* RMSE     : 13\n",
    "\n",
    "**3. GradientBoosting**\n",
    "* R2 score : 0.9807\n",
    "* RMSE     : 553.16\n",
    "\n",
    "**4. XGBoost**\n",
    "* R2 score : 0.9807\n",
    "* RMSE     : 552.58"
   ]
  },
  {
   "cell_type": "code",
   "execution_count": null,
   "metadata": {
    "_cell_guid": "90338a03-9848-400b-915c-d20a88fbca67",
    "_uuid": "57d8b5465af78bcf1e25604e1234752abf3c324d"
   },
   "outputs": [],
   "source": [
    "result_vis(r2_results, names)"
   ]
  },
  {
   "cell_type": "code",
   "execution_count": null,
   "metadata": {
    "_cell_guid": "fa964aa0-3338-4f25-98f5-76e42cfde87c",
    "_uuid": "09534d75829a392bab99d7bfc8b9eb0dd3970026"
   },
   "outputs": [],
   "source": [
    "sns.factorplot('name','r2', data=pd.DataFrame({'name':names, 'r2':[round(i, 4) for i in sum(r2_results, [])]}), size=6)"
   ]
  },
  {
   "cell_type": "markdown",
   "metadata": {
    "_cell_guid": "d8bc46bf-7d87-49f9-9826-6c482b2236ac",
    "_uuid": "cd34475154e3bea33be48d1a79b8c586860d392c"
   },
   "source": []
  }
 ],
 "metadata": {
  "kernelspec": {
   "display_name": "Python 3",
   "language": "python",
   "name": "python3"
  },
  "language_info": {
   "codemirror_mode": {
    "name": "ipython",
    "version": 3
   },
   "file_extension": ".py",
   "mimetype": "text/x-python",
   "name": "python",
   "nbconvert_exporter": "python",
   "pygments_lexer": "ipython3",
   "version": "3.6.5"
  }
 },
 "nbformat": 4,
 "nbformat_minor": 1
}
